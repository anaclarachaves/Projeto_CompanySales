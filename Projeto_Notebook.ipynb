{
 "cells": [
  {
   "cell_type": "markdown",
   "metadata": {},
   "source": [
    "# Descrição do Dataset"
   ]
  },
  {
   "cell_type": "markdown",
   "metadata": {},
   "source": [
    "O dataset utilizado neste projeto foi encontrado no <a href=\"https://www.kaggle.com/mickey1968/individual-company-sales-data\">kaggle</a>. Trata-se de dados de vendas de uma única empresa, com 40 mil instâncias e 15 features. Cada instância corresponde a informações sobre um único cliente."
   ]
  },
  {
   "cell_type": "markdown",
   "metadata": {},
   "source": [
    "<div class=\"alert alert-info\">\n",
    "  <strong><h3>Informações sobre as variáveis:</h3></strong><br>\n",
    "    <li><strong>flag:</strong> (target) - o cliente comprou o produto em questão ou não? [variável binária]<br></li>\n",
    "        <li><strong>gender:</strong> gênero do cliente. [variável binária]<br></li>\n",
    "<li><strong>education:</strong> grau de escolaridade do cliente. [variável categórica]<br></li>\n",
    "<li><strong>house_val:</strong> valor da casa que o cliente mora. [variável numérica]<br></li>\n",
    "<li><strong>age:</strong> idade do cliente (faixa etária). [variável categórica]<br></li>\n",
    "<li><strong>online:</strong> o cliente já fez compras online ou não? [variável binária]<br></li>\n",
    "<li><strong>customer_psy:</strong> descreve a psicologia do consumidor com base na área de residência. [variável categórica]<br></li>\n",
    "<li><strong>marriage:</strong> estado civil do cliente. [variável categórica]<br></li>\n",
    "<li><strong>children:</strong> se o cliente tem filhos ou não. [variável binária]<br></li>\n",
    "<li><strong>occupation:</strong> profissão do cliente. [variável categórica]<br></li>\n",
    "<li><strong>mortgage:</strong> informações sobre empréstimos imobiliários do cliente. [variável categórica]<br></li>\n",
    "<li><strong>house_own:</strong> se o cliente tem casa própria ou não. [variável binária]<br></li>\n",
    "<li><strong>region:</strong> em que área o cliente está? [variável categórica]<br></li>\n",
    "<li><strong>car_prob:</strong> probabilidade do cliente comprar um novo carro. [variável numérica]<br></li>\n",
    "<li><strong>fam_income:</strong> renda familiar do cliente (sendo A a menor renda e L a maior). [variável categórica]</li>      \n",
    "</div>"
   ]
  },
  {
   "cell_type": "markdown",
   "metadata": {},
   "source": [
    "# Funções Utilizadas ao longo da análise"
   ]
  },
  {
   "cell_type": "code",
   "execution_count": 241,
   "metadata": {
    "ExecuteTime": {
     "end_time": "2021-07-21T01:11:39.342592Z",
     "start_time": "2021-07-21T01:11:39.324640Z"
    }
   },
   "outputs": [],
   "source": [
    "# Função para mostrar os valores únicos das colunas escolhidas\n",
    "\n",
    "def valores_unicos(df):\n",
    "\n",
    "    for col in df:  # Loop entre as colunas do dataset\n",
    "        print(col)  # Printando o nome da coluna\n",
    "        # Printando a quantidade de valores únicos\n",
    "        print('A quantidade de valores únicos é: ', df[col].nunique())\n",
    "        # Mostrando quais são os valores únicos\n",
    "        print('Os valores únicos são: ', df[col].unique())\n",
    "        print('\\n')"
   ]
  },
  {
   "cell_type": "code",
   "execution_count": 242,
   "metadata": {
    "ExecuteTime": {
     "end_time": "2021-07-21T01:11:39.357920Z",
     "start_time": "2021-07-21T01:11:39.343589Z"
    }
   },
   "outputs": [],
   "source": [
    "# Função para mostrar a contagem dos valores de colunas específicas em ordem crescente\n",
    "\n",
    "def contagem_valores(df):\n",
    "    for col in df:\n",
    "        print(col)\n",
    "        print(df[col].value_counts(ascending=True))\n",
    "        print('\\n')"
   ]
  },
  {
   "cell_type": "markdown",
   "metadata": {},
   "source": [
    "# Sumário"
   ]
  },
  {
   "cell_type": "markdown",
   "metadata": {},
   "source": [
    "[1. Importação das Bibliotecas e dos Dados](#1.-Importação-das-Bibliotecas-e-dos-Dados)<br>\n",
    "[2. Pré-Visualização dos Dados](#2.-Pré-Visualização-dos-Dados)<br>\n",
    "[3. Pré-Processamento dos Dados](#3.-Pré-Processamento-dos-Dados)<br>\n",
    "&nbsp;&nbsp;&nbsp;&nbsp;[3.1. Limpeza dos Dados](#3.1.-Limpeza-dos-Dados)<br>\n",
    "&nbsp;&nbsp;&nbsp;&nbsp;[3.2. Feature Engineering](#3.2.-Feature-Engineering)<br>\n",
    "&nbsp;&nbsp;&nbsp;&nbsp;[3.3. Formatação dos Dados](#3.3.-Formatação-dos-Dados)<br>\n",
    "&nbsp;&nbsp;&nbsp;&nbsp;[3.4. Normalização dos Dados](#3.4.-Normalização-dos-Dados)<br>\n",
    "[4. Análise Exploratória dos Dados](#4.-Análise-Exploratória-dos-Dados)<br>\n",
    "[5. Treinamento do Modelo](#5.-Treinamento-do-Modelo)<br>\n",
    "[6. Avaliação do Modelo](#6.-Avaliação-do-Modelo)<br>\n",
    "[7. Exportação do Modelo](#7.-Exportação-do-Modelo)"
   ]
  },
  {
   "cell_type": "markdown",
   "metadata": {},
   "source": [
    "# 1. Importação das Bibliotecas e dos Dados"
   ]
  },
  {
   "cell_type": "code",
   "execution_count": 243,
   "metadata": {
    "ExecuteTime": {
     "end_time": "2021-07-21T01:11:39.373878Z",
     "start_time": "2021-07-21T01:11:39.358918Z"
    }
   },
   "outputs": [],
   "source": [
    "# Importação das principais bibliotecas que serão utilizadas no projeto\n",
    "\n",
    "import pandas as pd\n",
    "import numpy as np\n",
    "import matplotlib.pyplot as plt\n",
    "import seaborn as sns"
   ]
  },
  {
   "cell_type": "markdown",
   "metadata": {},
   "source": [
    "<div class=\"alert alert-info\">\n",
    "  <strong><h3>Versões das Bibliotecas:</h3></strong><br>\n",
    "    <li><strong>Pandas:</strong> 1.1.3<br></li>\n",
    "    <li><strong>Numpy:</strong> 1.19.2<br></li>\n",
    "<li><strong>Matplotlib:</strong> 3.3.2<br></li>\n",
    "<li><strong>Seaborn:</strong> 0.11.0<br></li>      \n",
    "</div>"
   ]
  },
  {
   "cell_type": "code",
   "execution_count": 244,
   "metadata": {
    "ExecuteTime": {
     "end_time": "2021-07-21T01:11:39.453699Z",
     "start_time": "2021-07-21T01:11:39.374882Z"
    }
   },
   "outputs": [],
   "source": [
    "# Importando os dados que serão utilizados\n",
    "\n",
    "df = pd.read_csv('sales_data.csv')"
   ]
  },
  {
   "cell_type": "markdown",
   "metadata": {},
   "source": [
    "# 2. Pré-Visualização dos Dados"
   ]
  },
  {
   "cell_type": "code",
   "execution_count": 245,
   "metadata": {
    "ExecuteTime": {
     "end_time": "2021-07-21T01:11:39.469624Z",
     "start_time": "2021-07-21T01:11:39.454697Z"
    }
   },
   "outputs": [
    {
     "data": {
      "text/plain": [
       "(40000, 15)"
      ]
     },
     "execution_count": 245,
     "metadata": {},
     "output_type": "execute_result"
    }
   ],
   "source": [
    "# Visualizando o tamanho do dataset\n",
    "df.shape"
   ]
  },
  {
   "cell_type": "code",
   "execution_count": 246,
   "metadata": {
    "ExecuteTime": {
     "end_time": "2021-07-21T01:11:39.485580Z",
     "start_time": "2021-07-21T01:11:39.470619Z"
    }
   },
   "outputs": [
    {
     "data": {
      "text/plain": [
       "Index(['flag', 'gender', 'education', 'house_val', 'age', 'online',\n",
       "       'customer_psy', 'marriage', 'child', 'occupation', 'mortgage',\n",
       "       'house_owner', 'region', 'car_prob', 'fam_income'],\n",
       "      dtype='object')"
      ]
     },
     "execution_count": 246,
     "metadata": {},
     "output_type": "execute_result"
    }
   ],
   "source": [
    "# Visualizando as colunas do dataset\n",
    "df.columns"
   ]
  },
  {
   "cell_type": "code",
   "execution_count": 247,
   "metadata": {
    "ExecuteTime": {
     "end_time": "2021-07-21T01:11:39.517494Z",
     "start_time": "2021-07-21T01:11:39.486577Z"
    }
   },
   "outputs": [
    {
     "data": {
      "text/html": [
       "<div>\n",
       "<style scoped>\n",
       "    .dataframe tbody tr th:only-of-type {\n",
       "        vertical-align: middle;\n",
       "    }\n",
       "\n",
       "    .dataframe tbody tr th {\n",
       "        vertical-align: top;\n",
       "    }\n",
       "\n",
       "    .dataframe thead th {\n",
       "        text-align: right;\n",
       "    }\n",
       "</style>\n",
       "<table border=\"1\" class=\"dataframe\">\n",
       "  <thead>\n",
       "    <tr style=\"text-align: right;\">\n",
       "      <th></th>\n",
       "      <th>flag</th>\n",
       "      <th>gender</th>\n",
       "      <th>education</th>\n",
       "      <th>house_val</th>\n",
       "      <th>age</th>\n",
       "      <th>online</th>\n",
       "      <th>customer_psy</th>\n",
       "      <th>marriage</th>\n",
       "      <th>child</th>\n",
       "      <th>occupation</th>\n",
       "      <th>mortgage</th>\n",
       "      <th>house_owner</th>\n",
       "      <th>region</th>\n",
       "      <th>car_prob</th>\n",
       "      <th>fam_income</th>\n",
       "    </tr>\n",
       "  </thead>\n",
       "  <tbody>\n",
       "    <tr>\n",
       "      <th>0</th>\n",
       "      <td>Y</td>\n",
       "      <td>M</td>\n",
       "      <td>4. Grad</td>\n",
       "      <td>756460</td>\n",
       "      <td>1_Unk</td>\n",
       "      <td>N</td>\n",
       "      <td>B</td>\n",
       "      <td>NaN</td>\n",
       "      <td>U</td>\n",
       "      <td>Professional</td>\n",
       "      <td>1Low</td>\n",
       "      <td>NaN</td>\n",
       "      <td>Midwest</td>\n",
       "      <td>1</td>\n",
       "      <td>L</td>\n",
       "    </tr>\n",
       "    <tr>\n",
       "      <th>1</th>\n",
       "      <td>N</td>\n",
       "      <td>F</td>\n",
       "      <td>3. Bach</td>\n",
       "      <td>213171</td>\n",
       "      <td>7_&gt;65</td>\n",
       "      <td>N</td>\n",
       "      <td>E</td>\n",
       "      <td>NaN</td>\n",
       "      <td>U</td>\n",
       "      <td>Professional</td>\n",
       "      <td>1Low</td>\n",
       "      <td>Owner</td>\n",
       "      <td>Northeast</td>\n",
       "      <td>3</td>\n",
       "      <td>G</td>\n",
       "    </tr>\n",
       "    <tr>\n",
       "      <th>2</th>\n",
       "      <td>N</td>\n",
       "      <td>M</td>\n",
       "      <td>2. Some College</td>\n",
       "      <td>111147</td>\n",
       "      <td>2_&lt;=25</td>\n",
       "      <td>Y</td>\n",
       "      <td>C</td>\n",
       "      <td>NaN</td>\n",
       "      <td>Y</td>\n",
       "      <td>Professional</td>\n",
       "      <td>1Low</td>\n",
       "      <td>Owner</td>\n",
       "      <td>Midwest</td>\n",
       "      <td>1</td>\n",
       "      <td>J</td>\n",
       "    </tr>\n",
       "    <tr>\n",
       "      <th>3</th>\n",
       "      <td>Y</td>\n",
       "      <td>M</td>\n",
       "      <td>2. Some College</td>\n",
       "      <td>354151</td>\n",
       "      <td>2_&lt;=25</td>\n",
       "      <td>Y</td>\n",
       "      <td>B</td>\n",
       "      <td>Single</td>\n",
       "      <td>U</td>\n",
       "      <td>Sales/Service</td>\n",
       "      <td>1Low</td>\n",
       "      <td>NaN</td>\n",
       "      <td>West</td>\n",
       "      <td>2</td>\n",
       "      <td>L</td>\n",
       "    </tr>\n",
       "    <tr>\n",
       "      <th>4</th>\n",
       "      <td>Y</td>\n",
       "      <td>F</td>\n",
       "      <td>2. Some College</td>\n",
       "      <td>117087</td>\n",
       "      <td>1_Unk</td>\n",
       "      <td>Y</td>\n",
       "      <td>J</td>\n",
       "      <td>Married</td>\n",
       "      <td>Y</td>\n",
       "      <td>Sales/Service</td>\n",
       "      <td>1Low</td>\n",
       "      <td>NaN</td>\n",
       "      <td>South</td>\n",
       "      <td>7</td>\n",
       "      <td>H</td>\n",
       "    </tr>\n",
       "    <tr>\n",
       "      <th>5</th>\n",
       "      <td>Y</td>\n",
       "      <td>F</td>\n",
       "      <td>3. Bach</td>\n",
       "      <td>248694</td>\n",
       "      <td>6_&lt;=65</td>\n",
       "      <td>Y</td>\n",
       "      <td>B</td>\n",
       "      <td>Married</td>\n",
       "      <td>N</td>\n",
       "      <td>Professional</td>\n",
       "      <td>2Med</td>\n",
       "      <td>Owner</td>\n",
       "      <td>West</td>\n",
       "      <td>1</td>\n",
       "      <td>G</td>\n",
       "    </tr>\n",
       "    <tr>\n",
       "      <th>6</th>\n",
       "      <td>Y</td>\n",
       "      <td>M</td>\n",
       "      <td>3. Bach</td>\n",
       "      <td>2000000</td>\n",
       "      <td>1_Unk</td>\n",
       "      <td>Y</td>\n",
       "      <td>A</td>\n",
       "      <td>Married</td>\n",
       "      <td>U</td>\n",
       "      <td>Professional</td>\n",
       "      <td>1Low</td>\n",
       "      <td>NaN</td>\n",
       "      <td>Northeast</td>\n",
       "      <td>5</td>\n",
       "      <td>C</td>\n",
       "    </tr>\n",
       "    <tr>\n",
       "      <th>7</th>\n",
       "      <td>N</td>\n",
       "      <td>F</td>\n",
       "      <td>3. Bach</td>\n",
       "      <td>416925</td>\n",
       "      <td>5_&lt;=55</td>\n",
       "      <td>Y</td>\n",
       "      <td>C</td>\n",
       "      <td>Married</td>\n",
       "      <td>Y</td>\n",
       "      <td>Professional</td>\n",
       "      <td>1Low</td>\n",
       "      <td>Owner</td>\n",
       "      <td>South</td>\n",
       "      <td>2</td>\n",
       "      <td>I</td>\n",
       "    </tr>\n",
       "    <tr>\n",
       "      <th>8</th>\n",
       "      <td>N</td>\n",
       "      <td>F</td>\n",
       "      <td>1. HS</td>\n",
       "      <td>207676</td>\n",
       "      <td>4_&lt;=45</td>\n",
       "      <td>Y</td>\n",
       "      <td>G</td>\n",
       "      <td>NaN</td>\n",
       "      <td>Y</td>\n",
       "      <td>Blue Collar</td>\n",
       "      <td>1Low</td>\n",
       "      <td>Renter</td>\n",
       "      <td>West</td>\n",
       "      <td>5</td>\n",
       "      <td>D</td>\n",
       "    </tr>\n",
       "    <tr>\n",
       "      <th>9</th>\n",
       "      <td>Y</td>\n",
       "      <td>M</td>\n",
       "      <td>1. HS</td>\n",
       "      <td>241380</td>\n",
       "      <td>1_Unk</td>\n",
       "      <td>Y</td>\n",
       "      <td>C</td>\n",
       "      <td>Married</td>\n",
       "      <td>U</td>\n",
       "      <td>Sales/Service</td>\n",
       "      <td>1Low</td>\n",
       "      <td>NaN</td>\n",
       "      <td>Northeast</td>\n",
       "      <td>6</td>\n",
       "      <td>G</td>\n",
       "    </tr>\n",
       "  </tbody>\n",
       "</table>\n",
       "</div>"
      ],
      "text/plain": [
       "  flag gender        education  house_val     age online customer_psy  \\\n",
       "0    Y      M          4. Grad     756460   1_Unk      N            B   \n",
       "1    N      F          3. Bach     213171   7_>65      N            E   \n",
       "2    N      M  2. Some College     111147  2_<=25      Y            C   \n",
       "3    Y      M  2. Some College     354151  2_<=25      Y            B   \n",
       "4    Y      F  2. Some College     117087   1_Unk      Y            J   \n",
       "5    Y      F          3. Bach     248694  6_<=65      Y            B   \n",
       "6    Y      M          3. Bach    2000000   1_Unk      Y            A   \n",
       "7    N      F          3. Bach     416925  5_<=55      Y            C   \n",
       "8    N      F            1. HS     207676  4_<=45      Y            G   \n",
       "9    Y      M            1. HS     241380   1_Unk      Y            C   \n",
       "\n",
       "  marriage child     occupation mortgage house_owner     region  car_prob  \\\n",
       "0      NaN     U   Professional     1Low         NaN    Midwest         1   \n",
       "1      NaN     U   Professional     1Low       Owner  Northeast         3   \n",
       "2      NaN     Y   Professional     1Low       Owner    Midwest         1   \n",
       "3   Single     U  Sales/Service     1Low         NaN       West         2   \n",
       "4  Married     Y  Sales/Service     1Low         NaN      South         7   \n",
       "5  Married     N   Professional     2Med       Owner       West         1   \n",
       "6  Married     U   Professional     1Low         NaN  Northeast         5   \n",
       "7  Married     Y   Professional     1Low       Owner      South         2   \n",
       "8      NaN     Y    Blue Collar     1Low      Renter       West         5   \n",
       "9  Married     U  Sales/Service     1Low         NaN  Northeast         6   \n",
       "\n",
       "  fam_income  \n",
       "0          L  \n",
       "1          G  \n",
       "2          J  \n",
       "3          L  \n",
       "4          H  \n",
       "5          G  \n",
       "6          C  \n",
       "7          I  \n",
       "8          D  \n",
       "9          G  "
      ]
     },
     "execution_count": 247,
     "metadata": {},
     "output_type": "execute_result"
    }
   ],
   "source": [
    "# Visualizando as 10 primeiras linhas\n",
    "df.head(10)"
   ]
  },
  {
   "cell_type": "code",
   "execution_count": 248,
   "metadata": {
    "ExecuteTime": {
     "end_time": "2021-07-21T01:11:39.613271Z",
     "start_time": "2021-07-21T01:11:39.521483Z"
    },
    "scrolled": true
   },
   "outputs": [
    {
     "data": {
      "text/html": [
       "<div>\n",
       "<style scoped>\n",
       "    .dataframe tbody tr th:only-of-type {\n",
       "        vertical-align: middle;\n",
       "    }\n",
       "\n",
       "    .dataframe tbody tr th {\n",
       "        vertical-align: top;\n",
       "    }\n",
       "\n",
       "    .dataframe thead th {\n",
       "        text-align: right;\n",
       "    }\n",
       "</style>\n",
       "<table border=\"1\" class=\"dataframe\">\n",
       "  <thead>\n",
       "    <tr style=\"text-align: right;\">\n",
       "      <th></th>\n",
       "      <th>flag</th>\n",
       "      <th>gender</th>\n",
       "      <th>education</th>\n",
       "      <th>house_val</th>\n",
       "      <th>age</th>\n",
       "      <th>online</th>\n",
       "      <th>customer_psy</th>\n",
       "      <th>marriage</th>\n",
       "      <th>child</th>\n",
       "      <th>occupation</th>\n",
       "      <th>mortgage</th>\n",
       "      <th>house_owner</th>\n",
       "      <th>region</th>\n",
       "      <th>car_prob</th>\n",
       "      <th>fam_income</th>\n",
       "    </tr>\n",
       "  </thead>\n",
       "  <tbody>\n",
       "    <tr>\n",
       "      <th>count</th>\n",
       "      <td>40000</td>\n",
       "      <td>40000</td>\n",
       "      <td>39259</td>\n",
       "      <td>4.000000e+04</td>\n",
       "      <td>40000</td>\n",
       "      <td>40000</td>\n",
       "      <td>40000</td>\n",
       "      <td>25973</td>\n",
       "      <td>40000</td>\n",
       "      <td>40000</td>\n",
       "      <td>40000</td>\n",
       "      <td>36623</td>\n",
       "      <td>40000</td>\n",
       "      <td>40000.000000</td>\n",
       "      <td>40000</td>\n",
       "    </tr>\n",
       "    <tr>\n",
       "      <th>unique</th>\n",
       "      <td>2</td>\n",
       "      <td>3</td>\n",
       "      <td>5</td>\n",
       "      <td>NaN</td>\n",
       "      <td>7</td>\n",
       "      <td>2</td>\n",
       "      <td>11</td>\n",
       "      <td>2</td>\n",
       "      <td>4</td>\n",
       "      <td>6</td>\n",
       "      <td>3</td>\n",
       "      <td>2</td>\n",
       "      <td>5</td>\n",
       "      <td>NaN</td>\n",
       "      <td>13</td>\n",
       "    </tr>\n",
       "    <tr>\n",
       "      <th>top</th>\n",
       "      <td>N</td>\n",
       "      <td>M</td>\n",
       "      <td>2. Some College</td>\n",
       "      <td>NaN</td>\n",
       "      <td>5_&lt;=55</td>\n",
       "      <td>Y</td>\n",
       "      <td>B</td>\n",
       "      <td>Married</td>\n",
       "      <td>Y</td>\n",
       "      <td>Professional</td>\n",
       "      <td>1Low</td>\n",
       "      <td>Owner</td>\n",
       "      <td>South</td>\n",
       "      <td>NaN</td>\n",
       "      <td>E</td>\n",
       "    </tr>\n",
       "    <tr>\n",
       "      <th>freq</th>\n",
       "      <td>20000</td>\n",
       "      <td>22019</td>\n",
       "      <td>11400</td>\n",
       "      <td>NaN</td>\n",
       "      <td>8103</td>\n",
       "      <td>27319</td>\n",
       "      <td>8197</td>\n",
       "      <td>20891</td>\n",
       "      <td>18012</td>\n",
       "      <td>14936</td>\n",
       "      <td>29848</td>\n",
       "      <td>29232</td>\n",
       "      <td>15676</td>\n",
       "      <td>NaN</td>\n",
       "      <td>8432</td>\n",
       "    </tr>\n",
       "    <tr>\n",
       "      <th>mean</th>\n",
       "      <td>NaN</td>\n",
       "      <td>NaN</td>\n",
       "      <td>NaN</td>\n",
       "      <td>3.072138e+05</td>\n",
       "      <td>NaN</td>\n",
       "      <td>NaN</td>\n",
       "      <td>NaN</td>\n",
       "      <td>NaN</td>\n",
       "      <td>NaN</td>\n",
       "      <td>NaN</td>\n",
       "      <td>NaN</td>\n",
       "      <td>NaN</td>\n",
       "      <td>NaN</td>\n",
       "      <td>3.491150</td>\n",
       "      <td>NaN</td>\n",
       "    </tr>\n",
       "    <tr>\n",
       "      <th>std</th>\n",
       "      <td>NaN</td>\n",
       "      <td>NaN</td>\n",
       "      <td>NaN</td>\n",
       "      <td>4.222146e+05</td>\n",
       "      <td>NaN</td>\n",
       "      <td>NaN</td>\n",
       "      <td>NaN</td>\n",
       "      <td>NaN</td>\n",
       "      <td>NaN</td>\n",
       "      <td>NaN</td>\n",
       "      <td>NaN</td>\n",
       "      <td>NaN</td>\n",
       "      <td>NaN</td>\n",
       "      <td>2.577719</td>\n",
       "      <td>NaN</td>\n",
       "    </tr>\n",
       "    <tr>\n",
       "      <th>min</th>\n",
       "      <td>NaN</td>\n",
       "      <td>NaN</td>\n",
       "      <td>NaN</td>\n",
       "      <td>0.000000e+00</td>\n",
       "      <td>NaN</td>\n",
       "      <td>NaN</td>\n",
       "      <td>NaN</td>\n",
       "      <td>NaN</td>\n",
       "      <td>NaN</td>\n",
       "      <td>NaN</td>\n",
       "      <td>NaN</td>\n",
       "      <td>NaN</td>\n",
       "      <td>NaN</td>\n",
       "      <td>0.000000</td>\n",
       "      <td>NaN</td>\n",
       "    </tr>\n",
       "    <tr>\n",
       "      <th>25%</th>\n",
       "      <td>NaN</td>\n",
       "      <td>NaN</td>\n",
       "      <td>NaN</td>\n",
       "      <td>8.065725e+04</td>\n",
       "      <td>NaN</td>\n",
       "      <td>NaN</td>\n",
       "      <td>NaN</td>\n",
       "      <td>NaN</td>\n",
       "      <td>NaN</td>\n",
       "      <td>NaN</td>\n",
       "      <td>NaN</td>\n",
       "      <td>NaN</td>\n",
       "      <td>NaN</td>\n",
       "      <td>1.000000</td>\n",
       "      <td>NaN</td>\n",
       "    </tr>\n",
       "    <tr>\n",
       "      <th>50%</th>\n",
       "      <td>NaN</td>\n",
       "      <td>NaN</td>\n",
       "      <td>NaN</td>\n",
       "      <td>2.148720e+05</td>\n",
       "      <td>NaN</td>\n",
       "      <td>NaN</td>\n",
       "      <td>NaN</td>\n",
       "      <td>NaN</td>\n",
       "      <td>NaN</td>\n",
       "      <td>NaN</td>\n",
       "      <td>NaN</td>\n",
       "      <td>NaN</td>\n",
       "      <td>NaN</td>\n",
       "      <td>3.000000</td>\n",
       "      <td>NaN</td>\n",
       "    </tr>\n",
       "    <tr>\n",
       "      <th>75%</th>\n",
       "      <td>NaN</td>\n",
       "      <td>NaN</td>\n",
       "      <td>NaN</td>\n",
       "      <td>3.937620e+05</td>\n",
       "      <td>NaN</td>\n",
       "      <td>NaN</td>\n",
       "      <td>NaN</td>\n",
       "      <td>NaN</td>\n",
       "      <td>NaN</td>\n",
       "      <td>NaN</td>\n",
       "      <td>NaN</td>\n",
       "      <td>NaN</td>\n",
       "      <td>NaN</td>\n",
       "      <td>5.000000</td>\n",
       "      <td>NaN</td>\n",
       "    </tr>\n",
       "    <tr>\n",
       "      <th>max</th>\n",
       "      <td>NaN</td>\n",
       "      <td>NaN</td>\n",
       "      <td>NaN</td>\n",
       "      <td>9.999999e+06</td>\n",
       "      <td>NaN</td>\n",
       "      <td>NaN</td>\n",
       "      <td>NaN</td>\n",
       "      <td>NaN</td>\n",
       "      <td>NaN</td>\n",
       "      <td>NaN</td>\n",
       "      <td>NaN</td>\n",
       "      <td>NaN</td>\n",
       "      <td>NaN</td>\n",
       "      <td>9.000000</td>\n",
       "      <td>NaN</td>\n",
       "    </tr>\n",
       "  </tbody>\n",
       "</table>\n",
       "</div>"
      ],
      "text/plain": [
       "         flag gender        education     house_val     age online  \\\n",
       "count   40000  40000            39259  4.000000e+04   40000  40000   \n",
       "unique      2      3                5           NaN       7      2   \n",
       "top         N      M  2. Some College           NaN  5_<=55      Y   \n",
       "freq    20000  22019            11400           NaN    8103  27319   \n",
       "mean      NaN    NaN              NaN  3.072138e+05     NaN    NaN   \n",
       "std       NaN    NaN              NaN  4.222146e+05     NaN    NaN   \n",
       "min       NaN    NaN              NaN  0.000000e+00     NaN    NaN   \n",
       "25%       NaN    NaN              NaN  8.065725e+04     NaN    NaN   \n",
       "50%       NaN    NaN              NaN  2.148720e+05     NaN    NaN   \n",
       "75%       NaN    NaN              NaN  3.937620e+05     NaN    NaN   \n",
       "max       NaN    NaN              NaN  9.999999e+06     NaN    NaN   \n",
       "\n",
       "       customer_psy marriage  child    occupation mortgage house_owner region  \\\n",
       "count         40000    25973  40000         40000    40000       36623  40000   \n",
       "unique           11        2      4             6        3           2      5   \n",
       "top               B  Married      Y  Professional     1Low       Owner  South   \n",
       "freq           8197    20891  18012         14936    29848       29232  15676   \n",
       "mean            NaN      NaN    NaN           NaN      NaN         NaN    NaN   \n",
       "std             NaN      NaN    NaN           NaN      NaN         NaN    NaN   \n",
       "min             NaN      NaN    NaN           NaN      NaN         NaN    NaN   \n",
       "25%             NaN      NaN    NaN           NaN      NaN         NaN    NaN   \n",
       "50%             NaN      NaN    NaN           NaN      NaN         NaN    NaN   \n",
       "75%             NaN      NaN    NaN           NaN      NaN         NaN    NaN   \n",
       "max             NaN      NaN    NaN           NaN      NaN         NaN    NaN   \n",
       "\n",
       "            car_prob fam_income  \n",
       "count   40000.000000      40000  \n",
       "unique           NaN         13  \n",
       "top              NaN          E  \n",
       "freq             NaN       8432  \n",
       "mean        3.491150        NaN  \n",
       "std         2.577719        NaN  \n",
       "min         0.000000        NaN  \n",
       "25%         1.000000        NaN  \n",
       "50%         3.000000        NaN  \n",
       "75%         5.000000        NaN  \n",
       "max         9.000000        NaN  "
      ]
     },
     "execution_count": 248,
     "metadata": {},
     "output_type": "execute_result"
    }
   ],
   "source": [
    "# Análise Estatística dos dados\n",
    "# Em ordem: quantidade de linhas, quantidade de valores únicos, moda, frequência da moda, média, desvio padrão,\n",
    " # valor mínimo, primeiro quartil, segundo quartil (mediana), terceiro quartil\n",
    "df.describe(include='all')"
   ]
  },
  {
   "cell_type": "markdown",
   "metadata": {},
   "source": [
    "<div class=\"alert alert-warning\">\n",
    "Antes de começar o pré-processamento dos dados, é importante entender melhor quais dados temos em mãos. Uma forma interessante de se fazer isso é sabendo quais e quantos são os valores únicos de cada uma das variáveis.\n",
    "</div>"
   ]
  },
  {
   "cell_type": "code",
   "execution_count": 249,
   "metadata": {
    "ExecuteTime": {
     "end_time": "2021-07-21T01:11:39.677068Z",
     "start_time": "2021-07-21T01:11:39.615233Z"
    }
   },
   "outputs": [
    {
     "name": "stdout",
     "output_type": "stream",
     "text": [
      "flag\n",
      "A quantidade de valores únicos é:  2\n",
      "Os valores únicos são:  ['Y' 'N']\n",
      "\n",
      "\n",
      "gender\n",
      "A quantidade de valores únicos é:  3\n",
      "Os valores únicos são:  ['M' 'F' 'U']\n",
      "\n",
      "\n",
      "education\n",
      "A quantidade de valores únicos é:  5\n",
      "Os valores únicos são:  ['4. Grad' '3. Bach' '2. Some College' '1. HS' '0. <HS' nan]\n",
      "\n",
      "\n",
      "house_val\n",
      "A quantidade de valores únicos é:  19572\n",
      "Os valores únicos são:  [756460 213171 111147 ... 120630 603554 213596]\n",
      "\n",
      "\n",
      "age\n",
      "A quantidade de valores únicos é:  7\n",
      "Os valores únicos são:  ['1_Unk' '7_>65' '2_<=25' '6_<=65' '5_<=55' '4_<=45' '3_<=35']\n",
      "\n",
      "\n",
      "online\n",
      "A quantidade de valores únicos é:  2\n",
      "Os valores únicos são:  ['N' 'Y']\n",
      "\n",
      "\n",
      "customer_psy\n",
      "A quantidade de valores únicos é:  11\n",
      "Os valores únicos são:  ['B' 'E' 'C' 'J' 'A' 'G' 'F' 'I' 'D' 'H' 'U']\n",
      "\n",
      "\n",
      "marriage\n",
      "A quantidade de valores únicos é:  2\n",
      "Os valores únicos são:  [nan 'Single' 'Married']\n",
      "\n",
      "\n",
      "child\n",
      "A quantidade de valores únicos é:  4\n",
      "Os valores únicos são:  ['U' 'Y' 'N' '0']\n",
      "\n",
      "\n",
      "occupation\n",
      "A quantidade de valores únicos é:  6\n",
      "Os valores únicos são:  ['Professional' 'Sales/Service' 'Blue Collar' 'Others' 'Retired' 'Farm']\n",
      "\n",
      "\n",
      "mortgage\n",
      "A quantidade de valores únicos é:  3\n",
      "Os valores únicos são:  ['1Low' '2Med' '3High']\n",
      "\n",
      "\n",
      "house_owner\n",
      "A quantidade de valores únicos é:  2\n",
      "Os valores únicos são:  [nan 'Owner' 'Renter']\n",
      "\n",
      "\n",
      "region\n",
      "A quantidade de valores únicos é:  5\n",
      "Os valores únicos são:  ['Midwest' 'Northeast' 'West' 'South' 'Rest']\n",
      "\n",
      "\n",
      "car_prob\n",
      "A quantidade de valores únicos é:  10\n",
      "Os valores únicos são:  [1 3 2 7 5 6 9 8 4 0]\n",
      "\n",
      "\n",
      "fam_income\n",
      "A quantidade de valores únicos é:  13\n",
      "Os valores únicos são:  ['L' 'G' 'J' 'H' 'C' 'I' 'D' 'E' 'A' 'F' 'B' 'K' 'U']\n",
      "\n",
      "\n"
     ]
    }
   ],
   "source": [
    "# Visualizando os valores únicos do dataframe inteiro\n",
    "valores_unicos(df);"
   ]
  },
  {
   "cell_type": "markdown",
   "metadata": {},
   "source": [
    "# 3. Pré-Processamento dos Dados"
   ]
  },
  {
   "cell_type": "markdown",
   "metadata": {},
   "source": [
    "## 3.1. Limpeza dos Dados"
   ]
  },
  {
   "cell_type": "markdown",
   "metadata": {},
   "source": [
    "### 3.1.1. Variáveis Desconhecidas"
   ]
  },
  {
   "cell_type": "markdown",
   "metadata": {},
   "source": [
    "<div class=\"alert alert-danger\">\n",
    "Pelo código de valores únicos, é possível observar que algumas variáveis apresentam valores desconhecidos. Primeiro, é preciso verificar quantas vezes variáveis como 'U' e 'Unknown' aparecem em cada variável para depois fazer a tratativa.<br>\n",
    "Pelo código, as seguintes variáveis apresentaram valores classificados como desconhecidos: gender, age, child.\n",
    "</div>"
   ]
  },
  {
   "cell_type": "code",
   "execution_count": 250,
   "metadata": {
    "ExecuteTime": {
     "end_time": "2021-07-21T01:11:39.692027Z",
     "start_time": "2021-07-21T01:11:39.680061Z"
    }
   },
   "outputs": [],
   "source": [
    "# Criando uma variável com as colunas que possuem valores desconhecidos\n",
    "features_unk = df[['gender', 'age', 'child', 'fam_income']]"
   ]
  },
  {
   "cell_type": "code",
   "execution_count": 251,
   "metadata": {
    "ExecuteTime": {
     "end_time": "2021-07-21T01:11:39.723941Z",
     "start_time": "2021-07-21T01:11:39.693025Z"
    }
   },
   "outputs": [
    {
     "name": "stdout",
     "output_type": "stream",
     "text": [
      "gender\n",
      "A quantidade de valores únicos é:  3\n",
      "Os valores únicos são:  ['M' 'F' 'U']\n",
      "\n",
      "\n",
      "age\n",
      "A quantidade de valores únicos é:  7\n",
      "Os valores únicos são:  ['1_Unk' '7_>65' '2_<=25' '6_<=65' '5_<=55' '4_<=45' '3_<=35']\n",
      "\n",
      "\n",
      "child\n",
      "A quantidade de valores únicos é:  4\n",
      "Os valores únicos são:  ['U' 'Y' 'N' '0']\n",
      "\n",
      "\n",
      "fam_income\n",
      "A quantidade de valores únicos é:  13\n",
      "Os valores únicos são:  ['L' 'G' 'J' 'H' 'C' 'I' 'D' 'E' 'A' 'F' 'B' 'K' 'U']\n",
      "\n",
      "\n"
     ]
    }
   ],
   "source": [
    "# Visualizando informações de valores únicos em cada coluna\n",
    "\n",
    "valores_unicos(features_unk);"
   ]
  },
  {
   "cell_type": "code",
   "execution_count": 252,
   "metadata": {
    "ExecuteTime": {
     "end_time": "2021-07-21T01:11:39.755960Z",
     "start_time": "2021-07-21T01:11:39.724939Z"
    }
   },
   "outputs": [
    {
     "name": "stdout",
     "output_type": "stream",
     "text": [
      "gender\n",
      "U     1151\n",
      "F    16830\n",
      "M    22019\n",
      "Name: gender, dtype: int64\n",
      "\n",
      "\n",
      "age\n",
      "2_<=25    2360\n",
      "7_>65     4822\n",
      "3_<=35    4984\n",
      "6_<=65    5907\n",
      "1_Unk     6709\n",
      "4_<=45    7115\n",
      "5_<=55    8103\n",
      "Name: age, dtype: int64\n",
      "\n",
      "\n",
      "child\n",
      "0      127\n",
      "U     8528\n",
      "N    13333\n",
      "Y    18012\n",
      "Name: child, dtype: int64\n",
      "\n",
      "\n",
      "fam_income\n",
      "U     153\n",
      "K    1487\n",
      "J    1614\n",
      "L    1617\n",
      "I    1622\n",
      "B    2169\n",
      "A    2274\n",
      "H    2498\n",
      "C    2687\n",
      "G    4224\n",
      "D    4582\n",
      "F    6641\n",
      "E    8432\n",
      "Name: fam_income, dtype: int64\n",
      "\n",
      "\n"
     ]
    }
   ],
   "source": [
    "# Visualizando a quantidade de valores para cada coluna\n",
    "contagem_valores(features_unk);"
   ]
  },
  {
   "cell_type": "code",
   "execution_count": 253,
   "metadata": {
    "ExecuteTime": {
     "end_time": "2021-07-21T01:11:39.770924Z",
     "start_time": "2021-07-21T01:11:39.756958Z"
    }
   },
   "outputs": [
    {
     "name": "stdout",
     "output_type": "stream",
     "text": [
      "As variáveis desconhecidas da coluna gender correspondem a 2.88% do total de instâncias.\n"
     ]
    }
   ],
   "source": [
    "print('As variáveis desconhecidas da coluna gender correspondem a {:.2%} do total de instâncias.'.format(\n",
    "    1151/df.shape[0]))"
   ]
  },
  {
   "cell_type": "code",
   "execution_count": 254,
   "metadata": {
    "ExecuteTime": {
     "end_time": "2021-07-21T01:11:39.785882Z",
     "start_time": "2021-07-21T01:11:39.772917Z"
    }
   },
   "outputs": [
    {
     "name": "stdout",
     "output_type": "stream",
     "text": [
      "As variáveis desconhecidas da coluna age correspondem a 16.77% do total de instâncias.\n"
     ]
    }
   ],
   "source": [
    "print('As variáveis desconhecidas da coluna age correspondem a {:.2%} do total de instâncias.'.format(\n",
    "    6709/df.shape[0]))"
   ]
  },
  {
   "cell_type": "code",
   "execution_count": 255,
   "metadata": {
    "ExecuteTime": {
     "end_time": "2021-07-21T01:11:39.801838Z",
     "start_time": "2021-07-21T01:11:39.788874Z"
    }
   },
   "outputs": [
    {
     "name": "stdout",
     "output_type": "stream",
     "text": [
      "As variáveis desconhecidas da coluna child correspondem a 21.32% do total de instâncias.\n"
     ]
    }
   ],
   "source": [
    "print('As variáveis desconhecidas da coluna child correspondem a {:.2%} do total de instâncias.'.format(\n",
    "    8528/df.shape[0]))"
   ]
  },
  {
   "cell_type": "code",
   "execution_count": 256,
   "metadata": {
    "ExecuteTime": {
     "end_time": "2021-07-21T01:11:39.817801Z",
     "start_time": "2021-07-21T01:11:39.804831Z"
    }
   },
   "outputs": [
    {
     "name": "stdout",
     "output_type": "stream",
     "text": [
      "As variáveis desconhecidas da coluna fam_income correspondem a 0.38% do total de instâncias.\n"
     ]
    }
   ],
   "source": [
    "print('As variáveis desconhecidas da coluna fam_income correspondem a {:.2%} do total de instâncias.'.format(\n",
    "    153/df.shape[0]))"
   ]
  },
  {
   "cell_type": "markdown",
   "metadata": {},
   "source": [
    "<div class=\"alert alert-warning\">\n",
    "As variáveis desconhecidas podem ser transformadas em nulas (visto que não temos essa informação de qualquer forma). Posteriormente, os dados serão tratados.\n",
    "</div>"
   ]
  },
  {
   "cell_type": "code",
   "execution_count": 257,
   "metadata": {
    "ExecuteTime": {
     "end_time": "2021-07-21T01:11:39.848980Z",
     "start_time": "2021-07-21T01:11:39.819792Z"
    }
   },
   "outputs": [],
   "source": [
    "# Fazendo a substituição nas colunas\n",
    "\n",
    "# Gender\n",
    "df['gender'] = df.gender.replace('U', np.NaN)\n",
    "\n",
    "# Age\n",
    "df['age'] = df.age.replace('1_Unk', np.NaN)\n",
    "\n",
    "# Child - OBS: A coluna child tem também outra variável desconhecida, o 0\n",
    "df['child'] = df.child.replace('U', np.NaN)\n",
    "df['child'] = df.child.replace('0', np.NaN)\n",
    "\n",
    "# fam_income\n",
    "df['fam_income'] = df.fam_income.replace('U', np.NaN)"
   ]
  },
  {
   "cell_type": "markdown",
   "metadata": {},
   "source": [
    "### 3.1.2. Tratamento de Dados Nulos"
   ]
  },
  {
   "cell_type": "markdown",
   "metadata": {},
   "source": [
    "<div class=\"alert alert-danger\">\n",
    "Agora que as variáveis desconhecidas já foram substituídas por valores nulos, podemos ver a quantidade de valores nulos por cada coluna.\n",
    "</div>"
   ]
  },
  {
   "cell_type": "code",
   "execution_count": 258,
   "metadata": {
    "ExecuteTime": {
     "end_time": "2021-07-21T01:11:39.879152Z",
     "start_time": "2021-07-21T01:11:39.849906Z"
    }
   },
   "outputs": [
    {
     "data": {
      "text/plain": [
       "flag                0\n",
       "gender           1151\n",
       "education         741\n",
       "house_val           0\n",
       "age              6709\n",
       "online              0\n",
       "customer_psy        0\n",
       "marriage        14027\n",
       "child            8655\n",
       "occupation          0\n",
       "mortgage            0\n",
       "house_owner      3377\n",
       "region              0\n",
       "car_prob            0\n",
       "fam_income        153\n",
       "dtype: int64"
      ]
     },
     "execution_count": 258,
     "metadata": {},
     "output_type": "execute_result"
    }
   ],
   "source": [
    "# Visualizando quantos dados nulos aparecem em cada coluna (VALOR ABSOLUTO)\n",
    "df.isnull().sum()"
   ]
  },
  {
   "cell_type": "code",
   "execution_count": 259,
   "metadata": {
    "ExecuteTime": {
     "end_time": "2021-07-21T01:11:39.910193Z",
     "start_time": "2021-07-21T01:11:39.880079Z"
    }
   },
   "outputs": [
    {
     "data": {
      "text/plain": [
       "flag             0.0000\n",
       "gender           2.8775\n",
       "education        1.8525\n",
       "house_val        0.0000\n",
       "age             16.7725\n",
       "online           0.0000\n",
       "customer_psy     0.0000\n",
       "marriage        35.0675\n",
       "child           21.6375\n",
       "occupation       0.0000\n",
       "mortgage         0.0000\n",
       "house_owner      8.4425\n",
       "region           0.0000\n",
       "car_prob         0.0000\n",
       "fam_income       0.3825\n",
       "dtype: float64"
      ]
     },
     "execution_count": 259,
     "metadata": {},
     "output_type": "execute_result"
    }
   ],
   "source": [
    "# Visualizando quantos dados nulos aparecem em cada coluna (VALOR RELATIVO)\n",
    "df.isnull().sum() / df.shape[0] * 100"
   ]
  },
  {
   "cell_type": "markdown",
   "metadata": {},
   "source": [
    "<div class=\"alert alert-danger\">\n",
    "As variáveis 'flag', 'house_val', 'online', 'customer_psy', 'occupation', 'mortgage', 'region' e 'car_prob' não apresentaram valores nulos. Todas as outras apresentaram, variando de 0.38% até 35.06%.<br>\n",
    "Vamos tratar caso a caso (da menor proporção até a maior proporção). Vale lembrar que todas essas features são categóricas.\n",
    "</div>"
   ]
  },
  {
   "cell_type": "markdown",
   "metadata": {},
   "source": [
    "#### 3.1.2.1. Feature: 'fam_income'"
   ]
  },
  {
   "cell_type": "code",
   "execution_count": 260,
   "metadata": {
    "ExecuteTime": {
     "end_time": "2021-07-21T01:11:39.926186Z",
     "start_time": "2021-07-21T01:11:39.911190Z"
    }
   },
   "outputs": [
    {
     "data": {
      "text/plain": [
       "NaN    0.003825\n",
       "K      0.037175\n",
       "J      0.040350\n",
       "L      0.040425\n",
       "I      0.040550\n",
       "B      0.054225\n",
       "A      0.056850\n",
       "H      0.062450\n",
       "C      0.067175\n",
       "G      0.105600\n",
       "D      0.114550\n",
       "F      0.166025\n",
       "E      0.210800\n",
       "Name: fam_income, dtype: float64"
      ]
     },
     "execution_count": 260,
     "metadata": {},
     "output_type": "execute_result"
    }
   ],
   "source": [
    "# Visualizando os valores da coluna 'fam_income' em ordem crescente\n",
    "df['fam_income'].value_counts(ascending=True, normalize=True, dropna=False)"
   ]
  },
  {
   "cell_type": "markdown",
   "metadata": {},
   "source": [
    "<div class=\"alert alert-warning\">\n",
    "Como valores nulos correspondem a uma parcela muito baixa do total dos dados (0.38%) e existem muitas categorias, esses valores serão removidos.\n",
    "</div>"
   ]
  },
  {
   "cell_type": "code",
   "execution_count": 261,
   "metadata": {
    "ExecuteTime": {
     "end_time": "2021-07-21T01:11:39.942143Z",
     "start_time": "2021-07-21T01:11:39.927179Z"
    }
   },
   "outputs": [],
   "source": [
    "# Deletando apenas os valores nulos\n",
    "df.dropna(subset=['fam_income'],inplace=True)"
   ]
  },
  {
   "cell_type": "code",
   "execution_count": 262,
   "metadata": {
    "ExecuteTime": {
     "end_time": "2021-07-21T01:11:39.958097Z",
     "start_time": "2021-07-21T01:11:39.943103Z"
    }
   },
   "outputs": [
    {
     "data": {
      "text/plain": [
       "(39847, 15)"
      ]
     },
     "execution_count": 262,
     "metadata": {},
     "output_type": "execute_result"
    }
   ],
   "source": [
    "# Visualizando o tamanho atual do dataset\n",
    "df.shape"
   ]
  },
  {
   "cell_type": "markdown",
   "metadata": {},
   "source": [
    "#### 3.1.2.2. Feature: 'education'"
   ]
  },
  {
   "cell_type": "code",
   "execution_count": 263,
   "metadata": {
    "ExecuteTime": {
     "end_time": "2021-07-21T01:11:39.989072Z",
     "start_time": "2021-07-21T01:11:39.964082Z"
    }
   },
   "outputs": [
    {
     "data": {
      "text/plain": [
       "NaN                0.018044\n",
       "0. <HS             0.096168\n",
       "4. Grad            0.148142\n",
       "1. HS              0.220544\n",
       "3. Bach            0.231937\n",
       "2. Some College    0.285166\n",
       "Name: education, dtype: float64"
      ]
     },
     "execution_count": 263,
     "metadata": {},
     "output_type": "execute_result"
    }
   ],
   "source": [
    "# Visualizando os valores da coluna 'education' em ordem crescente\n",
    "df['education'].value_counts(ascending=True, normalize=True, dropna=False)"
   ]
  },
  {
   "cell_type": "markdown",
   "metadata": {},
   "source": [
    "<div class=\"alert alert-warning\">\n",
    "Os valores nulos correspondem a apenas 1.8% do total dos dados. Como uma possível substituição desses valores não causará um grande impacto nos dados como um todo, é possível fazer a substituição pela moda.\n",
    "</div>"
   ]
  },
  {
   "cell_type": "code",
   "execution_count": 264,
   "metadata": {
    "ExecuteTime": {
     "end_time": "2021-07-21T01:11:40.004992Z",
     "start_time": "2021-07-21T01:11:39.994020Z"
    }
   },
   "outputs": [],
   "source": [
    "# Substituindo os valores nulos\n",
    "df['education'] = df['education'].fillna(value='2. Some College')"
   ]
  },
  {
   "cell_type": "markdown",
   "metadata": {},
   "source": [
    "#### 3.1.2.3. Feature: 'gender'"
   ]
  },
  {
   "cell_type": "code",
   "execution_count": 265,
   "metadata": {
    "ExecuteTime": {
     "end_time": "2021-07-21T01:11:40.019948Z",
     "start_time": "2021-07-21T01:11:40.006986Z"
    }
   },
   "outputs": [
    {
     "data": {
      "text/plain": [
       "NaN    0.028785\n",
       "F      0.420508\n",
       "M      0.550706\n",
       "Name: gender, dtype: float64"
      ]
     },
     "execution_count": 265,
     "metadata": {},
     "output_type": "execute_result"
    }
   ],
   "source": [
    "# Visualizando os valores da coluna 'education' em ordem crescente\n",
    "df['gender'].value_counts(ascending=True, normalize=True, dropna=False)"
   ]
  },
  {
   "cell_type": "markdown",
   "metadata": {},
   "source": [
    "<div class=\"alert alert-warning\">\n",
    "Os valores nulos da coluna 'gender' correspondem a apenas 2.87% do total dos dados. Há 42.05% de mulheres e 55.07% de homens, uma diferença de mais de 10% entre um gênero e outro. Sendo assim, os valores nulos podem ser substituídos pelo valor de maior frequência.\n",
    "</div>"
   ]
  },
  {
   "cell_type": "code",
   "execution_count": 266,
   "metadata": {
    "ExecuteTime": {
     "end_time": "2021-07-21T01:11:40.035905Z",
     "start_time": "2021-07-21T01:11:40.023938Z"
    }
   },
   "outputs": [],
   "source": [
    "# Substituindo os valores nulos\n",
    "df['gender'] = df['gender'].fillna(value='M')"
   ]
  },
  {
   "cell_type": "markdown",
   "metadata": {},
   "source": [
    "#### 3.1.2.4. Feature: 'house_owner'"
   ]
  },
  {
   "cell_type": "code",
   "execution_count": 267,
   "metadata": {
    "ExecuteTime": {
     "end_time": "2021-07-21T01:11:40.051863Z",
     "start_time": "2021-07-21T01:11:40.038899Z"
    }
   },
   "outputs": [
    {
     "data": {
      "text/plain": [
       "NaN       0.081487\n",
       "Renter    0.185309\n",
       "Owner     0.733205\n",
       "Name: house_owner, dtype: float64"
      ]
     },
     "execution_count": 267,
     "metadata": {},
     "output_type": "execute_result"
    }
   ],
   "source": [
    "# Visualizando os valores da coluna 'education' em ordem crescente\n",
    "df['house_owner'].value_counts(ascending=True, normalize=True, dropna=False)"
   ]
  },
  {
   "cell_type": "markdown",
   "metadata": {},
   "source": [
    "<div class=\"alert alert-warning\">\n",
    "Os valores nulos da coluna 'gender' correspondem a 8.14% do total dos dados, um valor mais considerável em relação às outras duas features analisadas. Owner corresponde a 73.32% dos dados e Renter a 18.53%. Da mesma forma como fizemos anteriormente, podemos substituir os valores nulos pela moda.\n",
    "</div>"
   ]
  },
  {
   "cell_type": "code",
   "execution_count": 268,
   "metadata": {
    "ExecuteTime": {
     "end_time": "2021-07-21T01:11:40.067820Z",
     "start_time": "2021-07-21T01:11:40.055861Z"
    }
   },
   "outputs": [],
   "source": [
    "# Substituindo os valores nulos\n",
    "df['house_owner'] = df['house_owner'].fillna(value='Owner')"
   ]
  },
  {
   "cell_type": "markdown",
   "metadata": {},
   "source": [
    "#### 3.1.2.5. Feature: 'age'"
   ]
  },
  {
   "cell_type": "code",
   "execution_count": 269,
   "metadata": {
    "ExecuteTime": {
     "end_time": "2021-07-21T01:11:40.083802Z",
     "start_time": "2021-07-21T01:11:40.069824Z"
    }
   },
   "outputs": [
    {
     "data": {
      "text/plain": [
       "2_<=25    0.058976\n",
       "7_>65     0.120360\n",
       "3_<=35    0.124777\n",
       "6_<=65    0.147690\n",
       "NaN       0.167189\n",
       "4_<=45    0.178106\n",
       "5_<=55    0.202901\n",
       "Name: age, dtype: float64"
      ]
     },
     "execution_count": 269,
     "metadata": {},
     "output_type": "execute_result"
    }
   ],
   "source": [
    "# Visualizando os valores da coluna 'education' em ordem crescente\n",
    "df['age'].value_counts(ascending=True, normalize=True, dropna=False)"
   ]
  },
  {
   "cell_type": "markdown",
   "metadata": {},
   "source": [
    "<div class=\"alert alert-warning\">\n",
    "Diferente das features anteriores, os valores nulos não correspondem à menor parcela dos dados. São 16.71% de dados. Substituir os valores nulos pela moda (>=55 anos), por exemplo, poderia causar uma diferença muito grande entre a primeira categoria em quantidade e a segunda (sendo que a diferença real é de apenas aproximadamente 2%). Sendo assim, as linhas nulas serão removidas.\n",
    "</div>"
   ]
  },
  {
   "cell_type": "code",
   "execution_count": 270,
   "metadata": {
    "ExecuteTime": {
     "end_time": "2021-07-21T01:11:40.099737Z",
     "start_time": "2021-07-21T01:11:40.084776Z"
    }
   },
   "outputs": [],
   "source": [
    "# Deletando apenas os valores nulos\n",
    "df.dropna(subset=['age'],inplace=True)"
   ]
  },
  {
   "cell_type": "code",
   "execution_count": 271,
   "metadata": {
    "ExecuteTime": {
     "end_time": "2021-07-21T01:11:40.115763Z",
     "start_time": "2021-07-21T01:11:40.101729Z"
    }
   },
   "outputs": [
    {
     "data": {
      "text/plain": [
       "(33185, 15)"
      ]
     },
     "execution_count": 271,
     "metadata": {},
     "output_type": "execute_result"
    }
   ],
   "source": [
    "# Visualizando o tamanho atual do dataset\n",
    "df.shape"
   ]
  },
  {
   "cell_type": "markdown",
   "metadata": {},
   "source": [
    "#### 3.1.2.6. Feature: 'child'"
   ]
  },
  {
   "cell_type": "code",
   "execution_count": 272,
   "metadata": {
    "ExecuteTime": {
     "end_time": "2021-07-21T01:11:40.147643Z",
     "start_time": "2021-07-21T01:11:40.118721Z"
    }
   },
   "outputs": [
    {
     "data": {
      "text/plain": [
       "NaN    0.190538\n",
       "N      0.355341\n",
       "Y      0.454121\n",
       "Name: child, dtype: float64"
      ]
     },
     "execution_count": 272,
     "metadata": {},
     "output_type": "execute_result"
    }
   ],
   "source": [
    "# Visualizando os valores da coluna 'education' em ordem crescente\n",
    "df['child'].value_counts(ascending=True, normalize=True, dropna=False)"
   ]
  },
  {
   "cell_type": "markdown",
   "metadata": {},
   "source": [
    "<div class=\"alert alert-warning\">\n",
    "Os valores nulos da coluna 'child' correspondem a 19.05% do total dos dados. 35.53% dos clientes não possuem filhos e 45.41% possuem. Se essa parcela nula for substituída (seja pelo menor ou pelo maior), não transpareceria a realidade visto que é uma porcentagem alta. Os dados nulos serão removidos.\n",
    "</div>"
   ]
  },
  {
   "cell_type": "code",
   "execution_count": 273,
   "metadata": {
    "ExecuteTime": {
     "end_time": "2021-07-21T01:11:40.178662Z",
     "start_time": "2021-07-21T01:11:40.148604Z"
    }
   },
   "outputs": [],
   "source": [
    "# Deletando apenas os valores nulos\n",
    "df.dropna(subset=['child'],inplace=True)"
   ]
  },
  {
   "cell_type": "code",
   "execution_count": 274,
   "metadata": {
    "ExecuteTime": {
     "end_time": "2021-07-21T01:11:40.194452Z",
     "start_time": "2021-07-21T01:11:40.180457Z"
    }
   },
   "outputs": [
    {
     "data": {
      "text/plain": [
       "(26862, 15)"
      ]
     },
     "execution_count": 274,
     "metadata": {},
     "output_type": "execute_result"
    }
   ],
   "source": [
    "df.shape"
   ]
  },
  {
   "cell_type": "markdown",
   "metadata": {},
   "source": [
    "#### 3.1.2.7. Feature: 'marriage'"
   ]
  },
  {
   "cell_type": "code",
   "execution_count": 275,
   "metadata": {
    "ExecuteTime": {
     "end_time": "2021-07-21T01:11:40.210413Z",
     "start_time": "2021-07-21T01:11:40.195417Z"
    }
   },
   "outputs": [
    {
     "data": {
      "text/plain": [
       "Single     0.093143\n",
       "NaN        0.335269\n",
       "Married    0.571588\n",
       "Name: marriage, dtype: float64"
      ]
     },
     "execution_count": 275,
     "metadata": {},
     "output_type": "execute_result"
    }
   ],
   "source": [
    "# Visualizando os valores da coluna 'education' em ordem crescente\n",
    "df['marriage'].value_counts(ascending=True, normalize=True, dropna=False)"
   ]
  },
  {
   "cell_type": "markdown",
   "metadata": {},
   "source": [
    "<div class=\"alert alert-warning\">\n",
    "A feature 'marriage' é a que possui a maior quantidade de valores nulos. Mesmo após a remoção de diversas linhas anteriormente, ainda corresponde a uma parcela alta dos dados (33.52%). Como já perdemos 32.84% com as limpezas anteriores, se removêssemos mais 33.52% dos dados agora, os dados tratados ficariam muito reduzidos em relação aos originais. Sendo assim, a feature inteira será removida.\n",
    "</div>"
   ]
  },
  {
   "cell_type": "code",
   "execution_count": 276,
   "metadata": {
    "ExecuteTime": {
     "end_time": "2021-07-21T01:11:40.226334Z",
     "start_time": "2021-07-21T01:11:40.211375Z"
    }
   },
   "outputs": [],
   "source": [
    "# Deletando a coluna 'marriage'\n",
    "df = df.drop(columns=['marriage'])"
   ]
  },
  {
   "cell_type": "markdown",
   "metadata": {},
   "source": [
    "### 3.1.2. Linhas duplicadas"
   ]
  },
  {
   "cell_type": "code",
   "execution_count": 277,
   "metadata": {
    "ExecuteTime": {
     "end_time": "2021-07-21T01:11:40.273607Z",
     "start_time": "2021-07-21T01:11:40.227332Z"
    }
   },
   "outputs": [],
   "source": [
    "# Deletando linhas duplicadas\n",
    "df.drop_duplicates(inplace=True)"
   ]
  },
  {
   "cell_type": "code",
   "execution_count": 278,
   "metadata": {
    "ExecuteTime": {
     "end_time": "2021-07-21T01:11:40.288879Z",
     "start_time": "2021-07-21T01:11:40.274482Z"
    }
   },
   "outputs": [
    {
     "data": {
      "text/plain": [
       "(26823, 14)"
      ]
     },
     "execution_count": 278,
     "metadata": {},
     "output_type": "execute_result"
    }
   ],
   "source": [
    "# Verificando o shape do dataset\n",
    "df.shape"
   ]
  },
  {
   "cell_type": "markdown",
   "metadata": {},
   "source": [
    "### 3.1.3. Tratamento de Outliers"
   ]
  },
  {
   "cell_type": "markdown",
   "metadata": {},
   "source": [
    "<div class=\"alert alert-warning\">\n",
    "Temos apenas duas variáveis numéricas: house_val e car_prob.\n",
    "</div>"
   ]
  },
  {
   "cell_type": "code",
   "execution_count": 279,
   "metadata": {
    "ExecuteTime": {
     "end_time": "2021-07-21T01:11:40.304985Z",
     "start_time": "2021-07-21T01:11:40.289840Z"
    }
   },
   "outputs": [
    {
     "name": "stdout",
     "output_type": "stream",
     "text": [
      "house_val    307969.0\n",
      "car_prob          3.0\n",
      "dtype: float64\n"
     ]
    }
   ],
   "source": [
    "# Fazendo o cálculo do IQR\n",
    "Q1 = df.quantile(0.25)\n",
    "Q3 = df.quantile(0.75)\n",
    "IQR = Q3 - Q1\n",
    "print(IQR)"
   ]
  },
  {
   "cell_type": "code",
   "execution_count": 280,
   "metadata": {
    "ExecuteTime": {
     "end_time": "2021-07-21T01:11:40.384425Z",
     "start_time": "2021-07-21T01:11:40.305981Z"
    }
   },
   "outputs": [
    {
     "data": {
      "text/plain": [
       "age                0\n",
       "car_prob         801\n",
       "child              0\n",
       "customer_psy       0\n",
       "education          0\n",
       "fam_income         0\n",
       "flag               0\n",
       "gender             0\n",
       "house_owner        0\n",
       "house_val       1599\n",
       "mortgage           0\n",
       "occupation         0\n",
       "online             0\n",
       "region             0\n",
       "dtype: int64"
      ]
     },
     "execution_count": 280,
     "metadata": {},
     "output_type": "execute_result"
    }
   ],
   "source": [
    "# Somando os outliers\n",
    "outlier = (df < (Q1 - 1.5 * IQR)) | (df > (Q3 + 1.5 * IQR))\n",
    "outlier.sum()"
   ]
  },
  {
   "cell_type": "markdown",
   "metadata": {},
   "source": [
    "<div class=\"alert alert-danger\">\n",
    "Pelo cálculo acima, vemos que existem 1599 outliers na coluna 'house_val' e 801 outliers na coluna 'car_prob'. Vamos visualizar esses outliers por um boxplot.</div>"
   ]
  },
  {
   "cell_type": "markdown",
   "metadata": {},
   "source": [
    "#### 3.1.3.1. Feature: 'house_val'"
   ]
  },
  {
   "cell_type": "code",
   "execution_count": 281,
   "metadata": {
    "ExecuteTime": {
     "end_time": "2021-07-21T01:11:40.495171Z",
     "start_time": "2021-07-21T01:11:40.385260Z"
    }
   },
   "outputs": [
    {
     "data": {
      "text/plain": [
       "<AxesSubplot:>"
      ]
     },
     "execution_count": 281,
     "metadata": {},
     "output_type": "execute_result"
    },
    {
     "data": {
      "image/png": "[encoded data removed]",
      "text/plain": [
       "<Figure size 432x288 with 1 Axes>"
      ]
     },
     "metadata": {
      "needs_background": "light"
     },
     "output_type": "display_data"
    }
   ],
   "source": [
    "# Visualizando os outliers da coluna house_val\n",
    "df.boxplot(column=['house_val'])"
   ]
  },
  {
   "cell_type": "markdown",
   "metadata": {},
   "source": [
    "<div class=\"alert alert-warning\">\n",
    "A coluna apresenta diversos outliers, mas não necessariamente precisamos remover todos eles já que são também características do dataset. Vamos visualizar os outliers que estão mais discrepantes.\n",
    "</div>"
   ]
  },
  {
   "cell_type": "code",
   "execution_count": 282,
   "metadata": {
    "ExecuteTime": {
     "end_time": "2021-07-21T01:11:40.526121Z",
     "start_time": "2021-07-21T01:11:40.497162Z"
    }
   },
   "outputs": [
    {
     "data": {
      "text/html": [
       "<div>\n",
       "<style scoped>\n",
       "    .dataframe tbody tr th:only-of-type {\n",
       "        vertical-align: middle;\n",
       "    }\n",
       "\n",
       "    .dataframe tbody tr th {\n",
       "        vertical-align: top;\n",
       "    }\n",
       "\n",
       "    .dataframe thead th {\n",
       "        text-align: right;\n",
       "    }\n",
       "</style>\n",
       "<table border=\"1\" class=\"dataframe\">\n",
       "  <thead>\n",
       "    <tr style=\"text-align: right;\">\n",
       "      <th></th>\n",
       "      <th>flag</th>\n",
       "      <th>gender</th>\n",
       "      <th>education</th>\n",
       "      <th>house_val</th>\n",
       "      <th>age</th>\n",
       "      <th>online</th>\n",
       "      <th>customer_psy</th>\n",
       "      <th>child</th>\n",
       "      <th>occupation</th>\n",
       "      <th>mortgage</th>\n",
       "      <th>house_owner</th>\n",
       "      <th>region</th>\n",
       "      <th>car_prob</th>\n",
       "      <th>fam_income</th>\n",
       "    </tr>\n",
       "  </thead>\n",
       "  <tbody>\n",
       "    <tr>\n",
       "      <th>6046</th>\n",
       "      <td>Y</td>\n",
       "      <td>F</td>\n",
       "      <td>4. Grad</td>\n",
       "      <td>6842202</td>\n",
       "      <td>4_&lt;=45</td>\n",
       "      <td>N</td>\n",
       "      <td>B</td>\n",
       "      <td>Y</td>\n",
       "      <td>Professional</td>\n",
       "      <td>1Low</td>\n",
       "      <td>Renter</td>\n",
       "      <td>Northeast</td>\n",
       "      <td>1</td>\n",
       "      <td>C</td>\n",
       "    </tr>\n",
       "    <tr>\n",
       "      <th>6379</th>\n",
       "      <td>N</td>\n",
       "      <td>M</td>\n",
       "      <td>4. Grad</td>\n",
       "      <td>7410866</td>\n",
       "      <td>5_&lt;=55</td>\n",
       "      <td>Y</td>\n",
       "      <td>B</td>\n",
       "      <td>N</td>\n",
       "      <td>Sales/Service</td>\n",
       "      <td>1Low</td>\n",
       "      <td>Owner</td>\n",
       "      <td>West</td>\n",
       "      <td>1</td>\n",
       "      <td>L</td>\n",
       "    </tr>\n",
       "    <tr>\n",
       "      <th>9126</th>\n",
       "      <td>Y</td>\n",
       "      <td>M</td>\n",
       "      <td>4. Grad</td>\n",
       "      <td>7383790</td>\n",
       "      <td>3_&lt;=35</td>\n",
       "      <td>Y</td>\n",
       "      <td>B</td>\n",
       "      <td>N</td>\n",
       "      <td>Professional</td>\n",
       "      <td>3High</td>\n",
       "      <td>Owner</td>\n",
       "      <td>Rest</td>\n",
       "      <td>8</td>\n",
       "      <td>C</td>\n",
       "    </tr>\n",
       "    <tr>\n",
       "      <th>9560</th>\n",
       "      <td>Y</td>\n",
       "      <td>M</td>\n",
       "      <td>3. Bach</td>\n",
       "      <td>6104000</td>\n",
       "      <td>4_&lt;=45</td>\n",
       "      <td>Y</td>\n",
       "      <td>B</td>\n",
       "      <td>Y</td>\n",
       "      <td>Professional</td>\n",
       "      <td>1Low</td>\n",
       "      <td>Owner</td>\n",
       "      <td>Northeast</td>\n",
       "      <td>1</td>\n",
       "      <td>L</td>\n",
       "    </tr>\n",
       "    <tr>\n",
       "      <th>10497</th>\n",
       "      <td>Y</td>\n",
       "      <td>F</td>\n",
       "      <td>3. Bach</td>\n",
       "      <td>8875793</td>\n",
       "      <td>7_&gt;65</td>\n",
       "      <td>Y</td>\n",
       "      <td>B</td>\n",
       "      <td>Y</td>\n",
       "      <td>Retired</td>\n",
       "      <td>1Low</td>\n",
       "      <td>Owner</td>\n",
       "      <td>South</td>\n",
       "      <td>1</td>\n",
       "      <td>A</td>\n",
       "    </tr>\n",
       "    <tr>\n",
       "      <th>12046</th>\n",
       "      <td>Y</td>\n",
       "      <td>M</td>\n",
       "      <td>2. Some College</td>\n",
       "      <td>7836282</td>\n",
       "      <td>4_&lt;=45</td>\n",
       "      <td>Y</td>\n",
       "      <td>B</td>\n",
       "      <td>Y</td>\n",
       "      <td>Sales/Service</td>\n",
       "      <td>3High</td>\n",
       "      <td>Owner</td>\n",
       "      <td>South</td>\n",
       "      <td>1</td>\n",
       "      <td>K</td>\n",
       "    </tr>\n",
       "    <tr>\n",
       "      <th>12073</th>\n",
       "      <td>N</td>\n",
       "      <td>F</td>\n",
       "      <td>3. Bach</td>\n",
       "      <td>8848620</td>\n",
       "      <td>4_&lt;=45</td>\n",
       "      <td>Y</td>\n",
       "      <td>B</td>\n",
       "      <td>Y</td>\n",
       "      <td>Professional</td>\n",
       "      <td>1Low</td>\n",
       "      <td>Owner</td>\n",
       "      <td>Northeast</td>\n",
       "      <td>1</td>\n",
       "      <td>C</td>\n",
       "    </tr>\n",
       "    <tr>\n",
       "      <th>12119</th>\n",
       "      <td>N</td>\n",
       "      <td>F</td>\n",
       "      <td>2. Some College</td>\n",
       "      <td>9413054</td>\n",
       "      <td>7_&gt;65</td>\n",
       "      <td>Y</td>\n",
       "      <td>B</td>\n",
       "      <td>N</td>\n",
       "      <td>Retired</td>\n",
       "      <td>1Low</td>\n",
       "      <td>Owner</td>\n",
       "      <td>West</td>\n",
       "      <td>2</td>\n",
       "      <td>C</td>\n",
       "    </tr>\n",
       "    <tr>\n",
       "      <th>22735</th>\n",
       "      <td>Y</td>\n",
       "      <td>M</td>\n",
       "      <td>3. Bach</td>\n",
       "      <td>6303949</td>\n",
       "      <td>5_&lt;=55</td>\n",
       "      <td>Y</td>\n",
       "      <td>B</td>\n",
       "      <td>Y</td>\n",
       "      <td>Professional</td>\n",
       "      <td>3High</td>\n",
       "      <td>Owner</td>\n",
       "      <td>South</td>\n",
       "      <td>1</td>\n",
       "      <td>L</td>\n",
       "    </tr>\n",
       "    <tr>\n",
       "      <th>22953</th>\n",
       "      <td>Y</td>\n",
       "      <td>M</td>\n",
       "      <td>4. Grad</td>\n",
       "      <td>6850977</td>\n",
       "      <td>5_&lt;=55</td>\n",
       "      <td>Y</td>\n",
       "      <td>B</td>\n",
       "      <td>Y</td>\n",
       "      <td>Professional</td>\n",
       "      <td>3High</td>\n",
       "      <td>Owner</td>\n",
       "      <td>Northeast</td>\n",
       "      <td>1</td>\n",
       "      <td>L</td>\n",
       "    </tr>\n",
       "    <tr>\n",
       "      <th>23677</th>\n",
       "      <td>Y</td>\n",
       "      <td>M</td>\n",
       "      <td>2. Some College</td>\n",
       "      <td>8869199</td>\n",
       "      <td>7_&gt;65</td>\n",
       "      <td>N</td>\n",
       "      <td>B</td>\n",
       "      <td>Y</td>\n",
       "      <td>Retired</td>\n",
       "      <td>1Low</td>\n",
       "      <td>Owner</td>\n",
       "      <td>South</td>\n",
       "      <td>3</td>\n",
       "      <td>L</td>\n",
       "    </tr>\n",
       "    <tr>\n",
       "      <th>26722</th>\n",
       "      <td>Y</td>\n",
       "      <td>M</td>\n",
       "      <td>3. Bach</td>\n",
       "      <td>9999999</td>\n",
       "      <td>4_&lt;=45</td>\n",
       "      <td>Y</td>\n",
       "      <td>C</td>\n",
       "      <td>Y</td>\n",
       "      <td>Professional</td>\n",
       "      <td>1Low</td>\n",
       "      <td>Owner</td>\n",
       "      <td>South</td>\n",
       "      <td>1</td>\n",
       "      <td>L</td>\n",
       "    </tr>\n",
       "    <tr>\n",
       "      <th>33183</th>\n",
       "      <td>Y</td>\n",
       "      <td>M</td>\n",
       "      <td>3. Bach</td>\n",
       "      <td>9197856</td>\n",
       "      <td>5_&lt;=55</td>\n",
       "      <td>Y</td>\n",
       "      <td>B</td>\n",
       "      <td>Y</td>\n",
       "      <td>Professional</td>\n",
       "      <td>1Low</td>\n",
       "      <td>Owner</td>\n",
       "      <td>West</td>\n",
       "      <td>1</td>\n",
       "      <td>L</td>\n",
       "    </tr>\n",
       "    <tr>\n",
       "      <th>34313</th>\n",
       "      <td>Y</td>\n",
       "      <td>M</td>\n",
       "      <td>2. Some College</td>\n",
       "      <td>6337423</td>\n",
       "      <td>3_&lt;=35</td>\n",
       "      <td>Y</td>\n",
       "      <td>B</td>\n",
       "      <td>Y</td>\n",
       "      <td>Professional</td>\n",
       "      <td>3High</td>\n",
       "      <td>Owner</td>\n",
       "      <td>West</td>\n",
       "      <td>1</td>\n",
       "      <td>L</td>\n",
       "    </tr>\n",
       "    <tr>\n",
       "      <th>36780</th>\n",
       "      <td>N</td>\n",
       "      <td>F</td>\n",
       "      <td>1. HS</td>\n",
       "      <td>6116862</td>\n",
       "      <td>7_&gt;65</td>\n",
       "      <td>N</td>\n",
       "      <td>A</td>\n",
       "      <td>N</td>\n",
       "      <td>Retired</td>\n",
       "      <td>1Low</td>\n",
       "      <td>Owner</td>\n",
       "      <td>Northeast</td>\n",
       "      <td>6</td>\n",
       "      <td>D</td>\n",
       "    </tr>\n",
       "  </tbody>\n",
       "</table>\n",
       "</div>"
      ],
      "text/plain": [
       "      flag gender        education  house_val     age online customer_psy  \\\n",
       "6046     Y      F          4. Grad    6842202  4_<=45      N            B   \n",
       "6379     N      M          4. Grad    7410866  5_<=55      Y            B   \n",
       "9126     Y      M          4. Grad    7383790  3_<=35      Y            B   \n",
       "9560     Y      M          3. Bach    6104000  4_<=45      Y            B   \n",
       "10497    Y      F          3. Bach    8875793   7_>65      Y            B   \n",
       "12046    Y      M  2. Some College    7836282  4_<=45      Y            B   \n",
       "12073    N      F          3. Bach    8848620  4_<=45      Y            B   \n",
       "12119    N      F  2. Some College    9413054   7_>65      Y            B   \n",
       "22735    Y      M          3. Bach    6303949  5_<=55      Y            B   \n",
       "22953    Y      M          4. Grad    6850977  5_<=55      Y            B   \n",
       "23677    Y      M  2. Some College    8869199   7_>65      N            B   \n",
       "26722    Y      M          3. Bach    9999999  4_<=45      Y            C   \n",
       "33183    Y      M          3. Bach    9197856  5_<=55      Y            B   \n",
       "34313    Y      M  2. Some College    6337423  3_<=35      Y            B   \n",
       "36780    N      F            1. HS    6116862   7_>65      N            A   \n",
       "\n",
       "      child     occupation mortgage house_owner     region  car_prob  \\\n",
       "6046      Y   Professional     1Low      Renter  Northeast         1   \n",
       "6379      N  Sales/Service     1Low       Owner       West         1   \n",
       "9126      N   Professional    3High       Owner       Rest         8   \n",
       "9560      Y   Professional     1Low       Owner  Northeast         1   \n",
       "10497     Y        Retired     1Low       Owner      South         1   \n",
       "12046     Y  Sales/Service    3High       Owner      South         1   \n",
       "12073     Y   Professional     1Low       Owner  Northeast         1   \n",
       "12119     N        Retired     1Low       Owner       West         2   \n",
       "22735     Y   Professional    3High       Owner      South         1   \n",
       "22953     Y   Professional    3High       Owner  Northeast         1   \n",
       "23677     Y        Retired     1Low       Owner      South         3   \n",
       "26722     Y   Professional     1Low       Owner      South         1   \n",
       "33183     Y   Professional     1Low       Owner       West         1   \n",
       "34313     Y   Professional    3High       Owner       West         1   \n",
       "36780     N        Retired     1Low       Owner  Northeast         6   \n",
       "\n",
       "      fam_income  \n",
       "6046           C  \n",
       "6379           L  \n",
       "9126           C  \n",
       "9560           L  \n",
       "10497          A  \n",
       "12046          K  \n",
       "12073          C  \n",
       "12119          C  \n",
       "22735          L  \n",
       "22953          L  \n",
       "23677          L  \n",
       "26722          L  \n",
       "33183          L  \n",
       "34313          L  \n",
       "36780          D  "
      ]
     },
     "execution_count": 282,
     "metadata": {},
     "output_type": "execute_result"
    }
   ],
   "source": [
    "# Visualizando os outliers\n",
    "df.loc[df['house_val'] >= 0.6e7]"
   ]
  },
  {
   "cell_type": "code",
   "execution_count": 283,
   "metadata": {
    "ExecuteTime": {
     "end_time": "2021-07-21T01:11:40.542041Z",
     "start_time": "2021-07-21T01:11:40.527117Z"
    }
   },
   "outputs": [],
   "source": [
    "# Deletando os outliers acima\n",
    "df = df.loc[df['house_val'] < 0.6e7]"
   ]
  },
  {
   "cell_type": "code",
   "execution_count": 284,
   "metadata": {
    "ExecuteTime": {
     "end_time": "2021-07-21T01:11:40.651231Z",
     "start_time": "2021-07-21T01:11:40.545033Z"
    }
   },
   "outputs": [
    {
     "data": {
      "text/plain": [
       "<AxesSubplot:>"
      ]
     },
     "execution_count": 284,
     "metadata": {},
     "output_type": "execute_result"
    },
    {
     "data": {
      "image/png": "[encoded data removed]",
      "text/plain": [
       "<Figure size 432x288 with 1 Axes>"
      ]
     },
     "metadata": {
      "needs_background": "light"
     },
     "output_type": "display_data"
    }
   ],
   "source": [
    "# Visualizando o boxplot novamente\n",
    "df.boxplot(column=['house_val'])"
   ]
  },
  {
   "cell_type": "markdown",
   "metadata": {},
   "source": [
    "<div class=\"alert alert-success\">\n",
    "Os outliers agora estão distribuídos de uma maneira mais uniforme.\n",
    "</div>"
   ]
  },
  {
   "cell_type": "code",
   "execution_count": 285,
   "metadata": {
    "ExecuteTime": {
     "end_time": "2021-07-21T01:11:40.667060Z",
     "start_time": "2021-07-21T01:11:40.652232Z"
    }
   },
   "outputs": [
    {
     "data": {
      "text/plain": [
       "(26808, 14)"
      ]
     },
     "execution_count": 285,
     "metadata": {},
     "output_type": "execute_result"
    }
   ],
   "source": [
    "# Visualizando o tamanho do dataset atual\n",
    "df.shape"
   ]
  },
  {
   "cell_type": "markdown",
   "metadata": {},
   "source": [
    "#### 3.1.3.1. Feature: 'car_prob'"
   ]
  },
  {
   "cell_type": "code",
   "execution_count": 286,
   "metadata": {
    "ExecuteTime": {
     "end_time": "2021-07-21T01:11:40.776678Z",
     "start_time": "2021-07-21T01:11:40.669899Z"
    }
   },
   "outputs": [
    {
     "data": {
      "text/plain": [
       "<AxesSubplot:>"
      ]
     },
     "execution_count": 286,
     "metadata": {},
     "output_type": "execute_result"
    },
    {
     "data": {
      "image/png": "[encoded data removed]",
      "text/plain": [
       "<Figure size 432x288 with 1 Axes>"
      ]
     },
     "metadata": {
      "needs_background": "light"
     },
     "output_type": "display_data"
    }
   ],
   "source": [
    "# Visualizando os outliers da coluna house_val\n",
    "df.boxplot(column=['car_prob'])"
   ]
  },
  {
   "cell_type": "code",
   "execution_count": 287,
   "metadata": {
    "ExecuteTime": {
     "end_time": "2021-07-21T01:11:40.808526Z",
     "start_time": "2021-07-21T01:11:40.778607Z"
    }
   },
   "outputs": [
    {
     "data": {
      "text/html": [
       "<div>\n",
       "<style scoped>\n",
       "    .dataframe tbody tr th:only-of-type {\n",
       "        vertical-align: middle;\n",
       "    }\n",
       "\n",
       "    .dataframe tbody tr th {\n",
       "        vertical-align: top;\n",
       "    }\n",
       "\n",
       "    .dataframe thead th {\n",
       "        text-align: right;\n",
       "    }\n",
       "</style>\n",
       "<table border=\"1\" class=\"dataframe\">\n",
       "  <thead>\n",
       "    <tr style=\"text-align: right;\">\n",
       "      <th></th>\n",
       "      <th>flag</th>\n",
       "      <th>gender</th>\n",
       "      <th>education</th>\n",
       "      <th>house_val</th>\n",
       "      <th>age</th>\n",
       "      <th>online</th>\n",
       "      <th>customer_psy</th>\n",
       "      <th>child</th>\n",
       "      <th>occupation</th>\n",
       "      <th>mortgage</th>\n",
       "      <th>house_owner</th>\n",
       "      <th>region</th>\n",
       "      <th>car_prob</th>\n",
       "      <th>fam_income</th>\n",
       "    </tr>\n",
       "  </thead>\n",
       "  <tbody>\n",
       "    <tr>\n",
       "      <th>56</th>\n",
       "      <td>N</td>\n",
       "      <td>F</td>\n",
       "      <td>0. &lt;HS</td>\n",
       "      <td>0</td>\n",
       "      <td>4_&lt;=45</td>\n",
       "      <td>N</td>\n",
       "      <td>G</td>\n",
       "      <td>Y</td>\n",
       "      <td>Sales/Service</td>\n",
       "      <td>1Low</td>\n",
       "      <td>Renter</td>\n",
       "      <td>South</td>\n",
       "      <td>9</td>\n",
       "      <td>A</td>\n",
       "    </tr>\n",
       "    <tr>\n",
       "      <th>147</th>\n",
       "      <td>Y</td>\n",
       "      <td>M</td>\n",
       "      <td>2. Some College</td>\n",
       "      <td>89925</td>\n",
       "      <td>5_&lt;=55</td>\n",
       "      <td>Y</td>\n",
       "      <td>F</td>\n",
       "      <td>Y</td>\n",
       "      <td>Blue Collar</td>\n",
       "      <td>1Low</td>\n",
       "      <td>Owner</td>\n",
       "      <td>West</td>\n",
       "      <td>9</td>\n",
       "      <td>D</td>\n",
       "    </tr>\n",
       "    <tr>\n",
       "      <th>197</th>\n",
       "      <td>N</td>\n",
       "      <td>F</td>\n",
       "      <td>0. &lt;HS</td>\n",
       "      <td>0</td>\n",
       "      <td>3_&lt;=35</td>\n",
       "      <td>N</td>\n",
       "      <td>E</td>\n",
       "      <td>Y</td>\n",
       "      <td>Sales/Service</td>\n",
       "      <td>1Low</td>\n",
       "      <td>Renter</td>\n",
       "      <td>West</td>\n",
       "      <td>9</td>\n",
       "      <td>A</td>\n",
       "    </tr>\n",
       "    <tr>\n",
       "      <th>200</th>\n",
       "      <td>Y</td>\n",
       "      <td>M</td>\n",
       "      <td>3. Bach</td>\n",
       "      <td>0</td>\n",
       "      <td>6_&lt;=65</td>\n",
       "      <td>N</td>\n",
       "      <td>E</td>\n",
       "      <td>Y</td>\n",
       "      <td>Professional</td>\n",
       "      <td>1Low</td>\n",
       "      <td>Renter</td>\n",
       "      <td>Midwest</td>\n",
       "      <td>9</td>\n",
       "      <td>D</td>\n",
       "    </tr>\n",
       "    <tr>\n",
       "      <th>375</th>\n",
       "      <td>N</td>\n",
       "      <td>M</td>\n",
       "      <td>2. Some College</td>\n",
       "      <td>0</td>\n",
       "      <td>4_&lt;=45</td>\n",
       "      <td>N</td>\n",
       "      <td>G</td>\n",
       "      <td>Y</td>\n",
       "      <td>Blue Collar</td>\n",
       "      <td>1Low</td>\n",
       "      <td>Renter</td>\n",
       "      <td>South</td>\n",
       "      <td>9</td>\n",
       "      <td>E</td>\n",
       "    </tr>\n",
       "    <tr>\n",
       "      <th>...</th>\n",
       "      <td>...</td>\n",
       "      <td>...</td>\n",
       "      <td>...</td>\n",
       "      <td>...</td>\n",
       "      <td>...</td>\n",
       "      <td>...</td>\n",
       "      <td>...</td>\n",
       "      <td>...</td>\n",
       "      <td>...</td>\n",
       "      <td>...</td>\n",
       "      <td>...</td>\n",
       "      <td>...</td>\n",
       "      <td>...</td>\n",
       "      <td>...</td>\n",
       "    </tr>\n",
       "    <tr>\n",
       "      <th>39830</th>\n",
       "      <td>N</td>\n",
       "      <td>M</td>\n",
       "      <td>2. Some College</td>\n",
       "      <td>27686</td>\n",
       "      <td>5_&lt;=55</td>\n",
       "      <td>N</td>\n",
       "      <td>J</td>\n",
       "      <td>N</td>\n",
       "      <td>Blue Collar</td>\n",
       "      <td>1Low</td>\n",
       "      <td>Owner</td>\n",
       "      <td>South</td>\n",
       "      <td>9</td>\n",
       "      <td>D</td>\n",
       "    </tr>\n",
       "    <tr>\n",
       "      <th>39924</th>\n",
       "      <td>N</td>\n",
       "      <td>F</td>\n",
       "      <td>2. Some College</td>\n",
       "      <td>196636</td>\n",
       "      <td>3_&lt;=35</td>\n",
       "      <td>N</td>\n",
       "      <td>C</td>\n",
       "      <td>Y</td>\n",
       "      <td>Blue Collar</td>\n",
       "      <td>1Low</td>\n",
       "      <td>Owner</td>\n",
       "      <td>Midwest</td>\n",
       "      <td>9</td>\n",
       "      <td>E</td>\n",
       "    </tr>\n",
       "    <tr>\n",
       "      <th>39939</th>\n",
       "      <td>N</td>\n",
       "      <td>F</td>\n",
       "      <td>2. Some College</td>\n",
       "      <td>0</td>\n",
       "      <td>2_&lt;=25</td>\n",
       "      <td>Y</td>\n",
       "      <td>F</td>\n",
       "      <td>Y</td>\n",
       "      <td>Sales/Service</td>\n",
       "      <td>1Low</td>\n",
       "      <td>Renter</td>\n",
       "      <td>Midwest</td>\n",
       "      <td>9</td>\n",
       "      <td>C</td>\n",
       "    </tr>\n",
       "    <tr>\n",
       "      <th>39966</th>\n",
       "      <td>N</td>\n",
       "      <td>F</td>\n",
       "      <td>1. HS</td>\n",
       "      <td>0</td>\n",
       "      <td>5_&lt;=55</td>\n",
       "      <td>Y</td>\n",
       "      <td>G</td>\n",
       "      <td>N</td>\n",
       "      <td>Professional</td>\n",
       "      <td>1Low</td>\n",
       "      <td>Renter</td>\n",
       "      <td>South</td>\n",
       "      <td>9</td>\n",
       "      <td>A</td>\n",
       "    </tr>\n",
       "    <tr>\n",
       "      <th>39989</th>\n",
       "      <td>N</td>\n",
       "      <td>F</td>\n",
       "      <td>1. HS</td>\n",
       "      <td>0</td>\n",
       "      <td>5_&lt;=55</td>\n",
       "      <td>N</td>\n",
       "      <td>H</td>\n",
       "      <td>N</td>\n",
       "      <td>Professional</td>\n",
       "      <td>1Low</td>\n",
       "      <td>Renter</td>\n",
       "      <td>South</td>\n",
       "      <td>9</td>\n",
       "      <td>A</td>\n",
       "    </tr>\n",
       "  </tbody>\n",
       "</table>\n",
       "<p>801 rows × 14 columns</p>\n",
       "</div>"
      ],
      "text/plain": [
       "      flag gender        education  house_val     age online customer_psy  \\\n",
       "56       N      F           0. <HS          0  4_<=45      N            G   \n",
       "147      Y      M  2. Some College      89925  5_<=55      Y            F   \n",
       "197      N      F           0. <HS          0  3_<=35      N            E   \n",
       "200      Y      M          3. Bach          0  6_<=65      N            E   \n",
       "375      N      M  2. Some College          0  4_<=45      N            G   \n",
       "...    ...    ...              ...        ...     ...    ...          ...   \n",
       "39830    N      M  2. Some College      27686  5_<=55      N            J   \n",
       "39924    N      F  2. Some College     196636  3_<=35      N            C   \n",
       "39939    N      F  2. Some College          0  2_<=25      Y            F   \n",
       "39966    N      F            1. HS          0  5_<=55      Y            G   \n",
       "39989    N      F            1. HS          0  5_<=55      N            H   \n",
       "\n",
       "      child     occupation mortgage house_owner   region  car_prob fam_income  \n",
       "56        Y  Sales/Service     1Low      Renter    South         9          A  \n",
       "147       Y    Blue Collar     1Low       Owner     West         9          D  \n",
       "197       Y  Sales/Service     1Low      Renter     West         9          A  \n",
       "200       Y   Professional     1Low      Renter  Midwest         9          D  \n",
       "375       Y    Blue Collar     1Low      Renter    South         9          E  \n",
       "...     ...            ...      ...         ...      ...       ...        ...  \n",
       "39830     N    Blue Collar     1Low       Owner    South         9          D  \n",
       "39924     Y    Blue Collar     1Low       Owner  Midwest         9          E  \n",
       "39939     Y  Sales/Service     1Low      Renter  Midwest         9          C  \n",
       "39966     N   Professional     1Low      Renter    South         9          A  \n",
       "39989     N   Professional     1Low      Renter    South         9          A  \n",
       "\n",
       "[801 rows x 14 columns]"
      ]
     },
     "execution_count": 287,
     "metadata": {},
     "output_type": "execute_result"
    }
   ],
   "source": [
    "# Visualizando os outliers\n",
    "df.loc[df['car_prob'] == 9]"
   ]
  },
  {
   "cell_type": "markdown",
   "metadata": {},
   "source": [
    "<div class=\"alert alert-warning\">\n",
    "Vemos acima que todas as instâncias com car_prob = 9 foram consideradas outliers. Os valores variam de 0 a 9, não faz sentido remover esses outliers.\n",
    "</div>"
   ]
  },
  {
   "cell_type": "markdown",
   "metadata": {},
   "source": [
    "## 3.2. Feature Engineering"
   ]
  },
  {
   "cell_type": "code",
   "execution_count": 288,
   "metadata": {
    "ExecuteTime": {
     "end_time": "2021-07-21T01:11:40.824483Z",
     "start_time": "2021-07-21T01:11:40.809523Z"
    }
   },
   "outputs": [
    {
     "data": {
      "text/plain": [
       "Index(['flag', 'gender', 'education', 'house_val', 'age', 'online',\n",
       "       'customer_psy', 'child', 'occupation', 'mortgage', 'house_owner',\n",
       "       'region', 'car_prob', 'fam_income'],\n",
       "      dtype='object')"
      ]
     },
     "execution_count": 288,
     "metadata": {},
     "output_type": "execute_result"
    }
   ],
   "source": [
    "# Visualizando as features atuais\n",
    "df.columns"
   ]
  },
  {
   "cell_type": "markdown",
   "metadata": {},
   "source": [
    "### 3.2.1. Variáveis Binárias"
   ]
  },
  {
   "cell_type": "markdown",
   "metadata": {},
   "source": [
    "<div class=\"alert alert-danger\">\n",
    "A partir do código acima, é possível observar que as variáveis binárias estão com valores 'Y' e 'N'. Por isso, é preciso transformar 'Y' em 1 (sim) e 'N' em 0 (não), visto que o algoritmo precisa aprender a partir de números.<br>\n",
    "As seguintes colunas serão ajustadas: flag, online, child.\n",
    "</div>"
   ]
  },
  {
   "cell_type": "code",
   "execution_count": 289,
   "metadata": {
    "ExecuteTime": {
     "end_time": "2021-07-21T01:11:40.856697Z",
     "start_time": "2021-07-21T01:11:40.825486Z"
    }
   },
   "outputs": [],
   "source": [
    "# Criando variável com as features que serão transformadas\n",
    "features_YN = df[['flag', 'online', 'child']]\n",
    "\n",
    "# Loop entre as colunas da variável acima para fazer a substituição\n",
    "for col in features_YN:\n",
    "    df[col] = df[col].map({'Y': 1, 'N': 0})"
   ]
  },
  {
   "cell_type": "code",
   "execution_count": 290,
   "metadata": {
    "ExecuteTime": {
     "end_time": "2021-07-21T01:11:40.872511Z",
     "start_time": "2021-07-21T01:11:40.857698Z"
    }
   },
   "outputs": [
    {
     "name": "stdout",
     "output_type": "stream",
     "text": [
      "flag\n",
      "A quantidade de valores únicos é:  2\n",
      "Os valores únicos são:  ['N' 'Y']\n",
      "\n",
      "\n",
      "online\n",
      "A quantidade de valores únicos é:  2\n",
      "Os valores únicos são:  ['Y' 'N']\n",
      "\n",
      "\n",
      "child\n",
      "A quantidade de valores únicos é:  2\n",
      "Os valores únicos são:  ['Y' 'N']\n",
      "\n",
      "\n"
     ]
    }
   ],
   "source": [
    "# Printando o resultado \n",
    "\n",
    "valores_unicos(features_YN);"
   ]
  },
  {
   "cell_type": "markdown",
   "metadata": {},
   "source": [
    "<div class=\"alert alert-danger\">\n",
    "Além das colunas binárias de Y/N, há também outras 2 colunas binárias: gender (F/M) e house_owner (casa própria ou alugada?). Essas colunas também precisam ser ajustadas. <br>\n",
    "<strong>OBS:</strong> Não necessariamente quer dizer que, na realidade, gêneros são binários. Mas, no caso do nosso problema, as únicas categorias que aparecem originalmente são F, M e U (unknown/desconhecido).\n",
    "</div>"
   ]
  },
  {
   "cell_type": "code",
   "execution_count": 291,
   "metadata": {
    "ExecuteTime": {
     "end_time": "2021-07-21T01:11:40.887237Z",
     "start_time": "2021-07-21T01:11:40.873507Z"
    }
   },
   "outputs": [],
   "source": [
    "# Fazendo a substituição na coluna 'gender'\n",
    "df['gender'] = df['gender'].map({'M': 0, 'F': 1})"
   ]
  },
  {
   "cell_type": "code",
   "execution_count": 292,
   "metadata": {
    "ExecuteTime": {
     "end_time": "2021-07-21T01:11:40.902804Z",
     "start_time": "2021-07-21T01:11:40.889233Z"
    }
   },
   "outputs": [],
   "source": [
    "# Fazendo a substituição na coluna 'house_owner'\n",
    "df['house_owner'] = df['house_owner'].map({'Renter': 0, 'Owner': 1})"
   ]
  },
  {
   "cell_type": "code",
   "execution_count": 293,
   "metadata": {
    "ExecuteTime": {
     "end_time": "2021-07-21T01:11:40.918022Z",
     "start_time": "2021-07-21T01:11:40.903811Z"
    },
    "scrolled": true
   },
   "outputs": [
    {
     "name": "stdout",
     "output_type": "stream",
     "text": [
      "gender\n",
      "A quantidade de valores únicos é:  2\n",
      "Os valores únicos são:  [0 1]\n",
      "\n",
      "\n",
      "house_owner\n",
      "A quantidade de valores únicos é:  2\n",
      "Os valores únicos são:  [1 0]\n",
      "\n",
      "\n"
     ]
    }
   ],
   "source": [
    "# Criando variável das features binárias para visualizar como os dados estão após a tratativa\n",
    "features_binarias = df[['gender', 'house_owner']]\n",
    "\n",
    "# Printando o resultado \n",
    "valores_unicos(features_binarias);"
   ]
  },
  {
   "cell_type": "markdown",
   "metadata": {},
   "source": [
    "### 3.2.2. Variáveis Categóricas"
   ]
  },
  {
   "cell_type": "markdown",
   "metadata": {},
   "source": [
    "<div class=\"alert alert-warning\">\n",
    "Entre as variáveis categóricas, existem tipos diferentes que exigem tratativas também diferentes. Esses dois tipos aparecem nesse dataset:<br>\n",
    "    <li><strong>Variáveis Ordinais:</strong> Existe ordenação entre as categorias.</li>\n",
    "    <li><strong>Variáveis Nominais:</strong> Não existe ordenação entre as categorias.</li><br>\n",
    "    <strong>As ordinais são:</strong> education, age, mortgage e fam_income.<br>\n",
    "    <strong>As nonimais são:</strong> customer_psy, occupation e region.<br>\n",
    "</div>"
   ]
  },
  {
   "cell_type": "markdown",
   "metadata": {},
   "source": [
    "#### 3.2.2.1. Variáveis Categóricas Ordinais"
   ]
  },
  {
   "cell_type": "code",
   "execution_count": 294,
   "metadata": {
    "ExecuteTime": {
     "end_time": "2021-07-21T01:11:40.933781Z",
     "start_time": "2021-07-21T01:11:40.918977Z"
    }
   },
   "outputs": [],
   "source": [
    "# Criando variável auxiliar apenas para conferir se a ordenação ficou correta\n",
    "df_categ_ord = df[['education', 'age', 'mortgage', 'fam_income']]"
   ]
  },
  {
   "cell_type": "code",
   "execution_count": 295,
   "metadata": {
    "ExecuteTime": {
     "end_time": "2021-07-21T01:11:40.963872Z",
     "start_time": "2021-07-21T01:11:40.935812Z"
    }
   },
   "outputs": [
    {
     "name": "stdout",
     "output_type": "stream",
     "text": [
      "education\n",
      "0. <HS             2153\n",
      "4. Grad            4194\n",
      "1. HS              5927\n",
      "3. Bach            6683\n",
      "2. Some College    7851\n",
      "Name: education, dtype: int64\n",
      "\n",
      "\n",
      "age\n",
      "2_<=25    1864\n",
      "3_<=35    3843\n",
      "7_>65     4183\n",
      "6_<=65    5040\n",
      "4_<=45    5723\n",
      "5_<=55    6155\n",
      "Name: age, dtype: int64\n",
      "\n",
      "\n",
      "mortgage\n",
      "2Med      3406\n",
      "3High     3923\n",
      "1Low     19479\n",
      "Name: mortgage, dtype: int64\n",
      "\n",
      "\n",
      "fam_income\n",
      "K    1070\n",
      "J    1192\n",
      "I    1201\n",
      "L    1238\n",
      "B    1321\n",
      "A    1356\n",
      "C    1541\n",
      "H    1829\n",
      "D    2811\n",
      "G    2914\n",
      "F    4730\n",
      "E    5605\n",
      "Name: fam_income, dtype: int64\n",
      "\n",
      "\n"
     ]
    }
   ],
   "source": [
    "# Verificando os valores antes do encoding\n",
    "contagem_valores(df_categ_ord);"
   ]
  },
  {
   "cell_type": "code",
   "execution_count": 296,
   "metadata": {
    "ExecuteTime": {
     "end_time": "2021-07-21T01:11:41.010795Z",
     "start_time": "2021-07-21T01:11:40.964703Z"
    }
   },
   "outputs": [],
   "source": [
    "# Importação da biblioteca para fazer o encoder seguindo ordenação\n",
    "from sklearn.preprocessing import OrdinalEncoder\n",
    "\n",
    "# Atribuindo a função a uma variável\n",
    "enc = OrdinalEncoder()\n",
    "\n",
    "# Substituindo os valores originais pelos valores do encoding\n",
    "df[['education', 'age', 'mortgage', 'fam_income']] = enc.fit_transform(df[['education', 'age', 'mortgage', 'fam_income']])"
   ]
  },
  {
   "cell_type": "code",
   "execution_count": 297,
   "metadata": {
    "ExecuteTime": {
     "end_time": "2021-07-21T01:11:41.025637Z",
     "start_time": "2021-07-21T01:11:41.011795Z"
    }
   },
   "outputs": [],
   "source": [
    "# Recriando variável auxiliar para checagem da ordenação pós-encoder\n",
    "df_categ_ord = df[['education', 'age', 'mortgage', 'fam_income']]"
   ]
  },
  {
   "cell_type": "code",
   "execution_count": 298,
   "metadata": {
    "ExecuteTime": {
     "end_time": "2021-07-21T01:11:41.040783Z",
     "start_time": "2021-07-21T01:11:41.026606Z"
    },
    "scrolled": false
   },
   "outputs": [
    {
     "name": "stdout",
     "output_type": "stream",
     "text": [
      "education\n",
      "0.0    2153\n",
      "4.0    4194\n",
      "1.0    5927\n",
      "3.0    6683\n",
      "2.0    7851\n",
      "Name: education, dtype: int64\n",
      "\n",
      "\n",
      "age\n",
      "0.0    1864\n",
      "1.0    3843\n",
      "5.0    4183\n",
      "4.0    5040\n",
      "2.0    5723\n",
      "3.0    6155\n",
      "Name: age, dtype: int64\n",
      "\n",
      "\n",
      "mortgage\n",
      "1.0     3406\n",
      "2.0     3923\n",
      "0.0    19479\n",
      "Name: mortgage, dtype: int64\n",
      "\n",
      "\n",
      "fam_income\n",
      "10.0    1070\n",
      "9.0     1192\n",
      "8.0     1201\n",
      "11.0    1238\n",
      "1.0     1321\n",
      "0.0     1356\n",
      "2.0     1541\n",
      "7.0     1829\n",
      "3.0     2811\n",
      "6.0     2914\n",
      "5.0     4730\n",
      "4.0     5605\n",
      "Name: fam_income, dtype: int64\n",
      "\n",
      "\n"
     ]
    }
   ],
   "source": [
    "# Checando se os valores ficaram corretos\n",
    "contagem_valores(df_categ_ord);"
   ]
  },
  {
   "cell_type": "markdown",
   "metadata": {},
   "source": [
    "<div class=\"alert alert-success\">\n",
    "Está correto.\n",
    "</div>"
   ]
  },
  {
   "cell_type": "markdown",
   "metadata": {},
   "source": [
    "#### 3.2.2.2. Variáveis Categóricas Nominais"
   ]
  },
  {
   "cell_type": "markdown",
   "metadata": {},
   "source": [
    "<div class=\"alert alert-warning\">\n",
    "Para as variáveis categóricas nominais, podemos utilizar o método de dummies. Cada uma das três variáveis será separada em múltiplas colunas, de acordo com a quantidade de categorias de cada.\n",
    "</div>"
   ]
  },
  {
   "cell_type": "code",
   "execution_count": 299,
   "metadata": {
    "ExecuteTime": {
     "end_time": "2021-07-21T01:11:41.072048Z",
     "start_time": "2021-07-21T01:11:41.041751Z"
    }
   },
   "outputs": [],
   "source": [
    "# Dummies das colunas nominais\n",
    "df = pd.get_dummies(df, columns = ['customer_psy', 'occupation', 'region'])"
   ]
  },
  {
   "cell_type": "code",
   "execution_count": 300,
   "metadata": {
    "ExecuteTime": {
     "end_time": "2021-07-21T01:11:41.087581Z",
     "start_time": "2021-07-21T01:11:41.073047Z"
    },
    "scrolled": true
   },
   "outputs": [
    {
     "data": {
      "text/plain": [
       "Index(['flag', 'gender', 'education', 'house_val', 'age', 'online', 'child',\n",
       "       'mortgage', 'house_owner', 'car_prob', 'fam_income', 'customer_psy_A',\n",
       "       'customer_psy_B', 'customer_psy_C', 'customer_psy_D', 'customer_psy_E',\n",
       "       'customer_psy_F', 'customer_psy_G', 'customer_psy_H', 'customer_psy_I',\n",
       "       'customer_psy_J', 'occupation_Blue Collar', 'occupation_Farm',\n",
       "       'occupation_Others', 'occupation_Professional', 'occupation_Retired',\n",
       "       'occupation_Sales/Service', 'region_Midwest', 'region_Northeast',\n",
       "       'region_Rest', 'region_South', 'region_West'],\n",
       "      dtype='object')"
      ]
     },
     "execution_count": 300,
     "metadata": {},
     "output_type": "execute_result"
    }
   ],
   "source": [
    "# Visualizando as colunas atuais\n",
    "df.columns"
   ]
  },
  {
   "cell_type": "markdown",
   "metadata": {},
   "source": [
    "## 3.3. Formatação dos Dados"
   ]
  },
  {
   "cell_type": "code",
   "execution_count": 301,
   "metadata": {
    "ExecuteTime": {
     "end_time": "2021-07-21T01:11:41.149847Z",
     "start_time": "2021-07-21T01:11:41.088542Z"
    }
   },
   "outputs": [
    {
     "name": "stdout",
     "output_type": "stream",
     "text": [
      "flag\n",
      "0    12926\n",
      "1    13882\n",
      "Name: flag, dtype: int64\n",
      "\n",
      "\n",
      "gender\n",
      "1    11643\n",
      "0    15165\n",
      "Name: gender, dtype: int64\n",
      "\n",
      "\n",
      "education\n",
      "0.0    2153\n",
      "4.0    4194\n",
      "1.0    5927\n",
      "3.0    6683\n",
      "2.0    7851\n",
      "Name: education, dtype: int64\n",
      "\n",
      "\n",
      "house_val\n",
      "383178        1\n",
      "12387         1\n",
      "155521        1\n",
      "175740        1\n",
      "1136259       1\n",
      "           ... \n",
      "294300       17\n",
      "2000000      20\n",
      "1500000      31\n",
      "1000000      53\n",
      "0          4224\n",
      "Name: house_val, Length: 15090, dtype: int64\n",
      "\n",
      "\n",
      "age\n",
      "0.0    1864\n",
      "1.0    3843\n",
      "5.0    4183\n",
      "4.0    5040\n",
      "2.0    5723\n",
      "3.0    6155\n",
      "Name: age, dtype: int64\n",
      "\n",
      "\n",
      "online\n",
      "0     7104\n",
      "1    19704\n",
      "Name: online, dtype: int64\n",
      "\n",
      "\n",
      "child\n",
      "0    11763\n",
      "1    15045\n",
      "Name: child, dtype: int64\n",
      "\n",
      "\n",
      "mortgage\n",
      "1.0     3406\n",
      "2.0     3923\n",
      "0.0    19479\n",
      "Name: mortgage, dtype: int64\n",
      "\n",
      "\n",
      "house_owner\n",
      "0     3941\n",
      "1    22867\n",
      "Name: house_owner, dtype: int64\n",
      "\n",
      "\n",
      "car_prob\n",
      "9     801\n",
      "7    1179\n",
      "6    1324\n",
      "8    1430\n",
      "5    1896\n",
      "4    2082\n",
      "3    3902\n",
      "2    5475\n",
      "1    8719\n",
      "Name: car_prob, dtype: int64\n",
      "\n",
      "\n",
      "fam_income\n",
      "10.0    1070\n",
      "9.0     1192\n",
      "8.0     1201\n",
      "11.0    1238\n",
      "1.0     1321\n",
      "0.0     1356\n",
      "2.0     1541\n",
      "7.0     1829\n",
      "3.0     2811\n",
      "6.0     2914\n",
      "5.0     4730\n",
      "4.0     5605\n",
      "Name: fam_income, dtype: int64\n",
      "\n",
      "\n",
      "customer_psy_A\n",
      "1      594\n",
      "0    26214\n",
      "Name: customer_psy_A, dtype: int64\n",
      "\n",
      "\n",
      "customer_psy_B\n",
      "1     6082\n",
      "0    20726\n",
      "Name: customer_psy_B, dtype: int64\n",
      "\n",
      "\n",
      "customer_psy_C\n",
      "1     5928\n",
      "0    20880\n",
      "Name: customer_psy_C, dtype: int64\n",
      "\n",
      "\n",
      "customer_psy_D\n",
      "1     2012\n",
      "0    24796\n",
      "Name: customer_psy_D, dtype: int64\n",
      "\n",
      "\n",
      "customer_psy_E\n",
      "1     4180\n",
      "0    22628\n",
      "Name: customer_psy_E, dtype: int64\n",
      "\n",
      "\n",
      "customer_psy_F\n",
      "1     2419\n",
      "0    24389\n",
      "Name: customer_psy_F, dtype: int64\n",
      "\n",
      "\n",
      "customer_psy_G\n",
      "1     1812\n",
      "0    24996\n",
      "Name: customer_psy_G, dtype: int64\n",
      "\n",
      "\n",
      "customer_psy_H\n",
      "1      665\n",
      "0    26143\n",
      "Name: customer_psy_H, dtype: int64\n",
      "\n",
      "\n",
      "customer_psy_I\n",
      "1     1554\n",
      "0    25254\n",
      "Name: customer_psy_I, dtype: int64\n",
      "\n",
      "\n",
      "customer_psy_J\n",
      "1     1562\n",
      "0    25246\n",
      "Name: customer_psy_J, dtype: int64\n",
      "\n",
      "\n",
      "occupation_Blue Collar\n",
      "1     4401\n",
      "0    22407\n",
      "Name: occupation_Blue Collar, dtype: int64\n",
      "\n",
      "\n",
      "occupation_Farm\n",
      "1      177\n",
      "0    26631\n",
      "Name: occupation_Farm, dtype: int64\n",
      "\n",
      "\n",
      "occupation_Others\n",
      "1      936\n",
      "0    25872\n",
      "Name: occupation_Others, dtype: int64\n",
      "\n",
      "\n",
      "occupation_Professional\n",
      "1    10845\n",
      "0    15963\n",
      "Name: occupation_Professional, dtype: int64\n",
      "\n",
      "\n",
      "occupation_Retired\n",
      "1     3672\n",
      "0    23136\n",
      "Name: occupation_Retired, dtype: int64\n",
      "\n",
      "\n",
      "occupation_Sales/Service\n",
      "1     6777\n",
      "0    20031\n",
      "Name: occupation_Sales/Service, dtype: int64\n",
      "\n",
      "\n",
      "region_Midwest\n",
      "1     5562\n",
      "0    21246\n",
      "Name: region_Midwest, dtype: int64\n",
      "\n",
      "\n",
      "region_Northeast\n",
      "1     4833\n",
      "0    21975\n",
      "Name: region_Northeast, dtype: int64\n",
      "\n",
      "\n",
      "region_Rest\n",
      "1      149\n",
      "0    26659\n",
      "Name: region_Rest, dtype: int64\n",
      "\n",
      "\n",
      "region_South\n",
      "1    10477\n",
      "0    16331\n",
      "Name: region_South, dtype: int64\n",
      "\n",
      "\n",
      "region_West\n",
      "1     5787\n",
      "0    21021\n",
      "Name: region_West, dtype: int64\n",
      "\n",
      "\n"
     ]
    }
   ],
   "source": [
    "# Verificando novamente com a função de contagem de valores\n",
    "contagem_valores(df);"
   ]
  },
  {
   "cell_type": "markdown",
   "metadata": {
    "ExecuteTime": {
     "end_time": "2021-07-20T23:12:01.660263Z",
     "start_time": "2021-07-20T23:12:01.648270Z"
    }
   },
   "source": [
    "<div class=\"alert alert-warning\">\n",
    "Antes da etapa de Feature Engineering, é importante formatar os dados.\n",
    "</div>"
   ]
  },
  {
   "cell_type": "code",
   "execution_count": 302,
   "metadata": {
    "ExecuteTime": {
     "end_time": "2021-07-21T01:11:41.165598Z",
     "start_time": "2021-07-21T01:11:41.152671Z"
    }
   },
   "outputs": [
    {
     "data": {
      "text/plain": [
       "flag                          int64\n",
       "gender                        int64\n",
       "education                   float64\n",
       "house_val                     int64\n",
       "age                         float64\n",
       "online                        int64\n",
       "child                         int64\n",
       "mortgage                    float64\n",
       "house_owner                   int64\n",
       "car_prob                      int64\n",
       "fam_income                  float64\n",
       "customer_psy_A                uint8\n",
       "customer_psy_B                uint8\n",
       "customer_psy_C                uint8\n",
       "customer_psy_D                uint8\n",
       "customer_psy_E                uint8\n",
       "customer_psy_F                uint8\n",
       "customer_psy_G                uint8\n",
       "customer_psy_H                uint8\n",
       "customer_psy_I                uint8\n",
       "customer_psy_J                uint8\n",
       "occupation_Blue Collar        uint8\n",
       "occupation_Farm               uint8\n",
       "occupation_Others             uint8\n",
       "occupation_Professional       uint8\n",
       "occupation_Retired            uint8\n",
       "occupation_Sales/Service      uint8\n",
       "region_Midwest                uint8\n",
       "region_Northeast              uint8\n",
       "region_Rest                   uint8\n",
       "region_South                  uint8\n",
       "region_West                   uint8\n",
       "dtype: object"
      ]
     },
     "execution_count": 302,
     "metadata": {},
     "output_type": "execute_result"
    }
   ],
   "source": [
    "# Checando o formato das variáveis\n",
    "df.dtypes"
   ]
  },
  {
   "cell_type": "markdown",
   "metadata": {},
   "source": [
    "<div class=\"alert alert-danger\">\n",
    "Algumas variáveis categóricas estão com o formato de float. É preciso alterar.\n",
    "</div>"
   ]
  },
  {
   "cell_type": "code",
   "execution_count": 303,
   "metadata": {
    "ExecuteTime": {
     "end_time": "2021-07-21T01:11:41.181556Z",
     "start_time": "2021-07-21T01:11:41.166596Z"
    }
   },
   "outputs": [],
   "source": [
    "# Criando variável com as colunas que serão atualizadas\n",
    "df_format = df[['flag', 'education', 'age', 'online', 'child', 'mortgage', 'fam_income']]"
   ]
  },
  {
   "cell_type": "code",
   "execution_count": 304,
   "metadata": {
    "ExecuteTime": {
     "end_time": "2021-07-21T01:11:41.197515Z",
     "start_time": "2021-07-21T01:11:41.182586Z"
    }
   },
   "outputs": [],
   "source": [
    "# Formatando os dados corretamente\n",
    "\n",
    "for col in df_format:\n",
    "    df[col] = df[col].astype('int64')"
   ]
  },
  {
   "cell_type": "code",
   "execution_count": 305,
   "metadata": {
    "ExecuteTime": {
     "end_time": "2021-07-21T01:11:41.213470Z",
     "start_time": "2021-07-21T01:11:41.198513Z"
    }
   },
   "outputs": [
    {
     "data": {
      "text/plain": [
       "flag                        int64\n",
       "gender                      int64\n",
       "education                   int64\n",
       "house_val                   int64\n",
       "age                         int64\n",
       "online                      int64\n",
       "child                       int64\n",
       "mortgage                    int64\n",
       "house_owner                 int64\n",
       "car_prob                    int64\n",
       "fam_income                  int64\n",
       "customer_psy_A              uint8\n",
       "customer_psy_B              uint8\n",
       "customer_psy_C              uint8\n",
       "customer_psy_D              uint8\n",
       "customer_psy_E              uint8\n",
       "customer_psy_F              uint8\n",
       "customer_psy_G              uint8\n",
       "customer_psy_H              uint8\n",
       "customer_psy_I              uint8\n",
       "customer_psy_J              uint8\n",
       "occupation_Blue Collar      uint8\n",
       "occupation_Farm             uint8\n",
       "occupation_Others           uint8\n",
       "occupation_Professional     uint8\n",
       "occupation_Retired          uint8\n",
       "occupation_Sales/Service    uint8\n",
       "region_Midwest              uint8\n",
       "region_Northeast            uint8\n",
       "region_Rest                 uint8\n",
       "region_South                uint8\n",
       "region_West                 uint8\n",
       "dtype: object"
      ]
     },
     "execution_count": 305,
     "metadata": {},
     "output_type": "execute_result"
    }
   ],
   "source": [
    "# Checando os formatos\n",
    "df.dtypes"
   ]
  },
  {
   "cell_type": "markdown",
   "metadata": {},
   "source": [
    "<div class=\"alert alert-success\">\n",
    "Está correto.\n",
    "</div>"
   ]
  },
  {
   "cell_type": "markdown",
   "metadata": {},
   "source": [
    "## 3.4. Normalização dos Dados"
   ]
  },
  {
   "cell_type": "markdown",
   "metadata": {},
   "source": [
    "<div class=\"alert alert-warning\">\n",
    "No caso deste projeto, a última etapa de pré-processamento é a normalização dos dados numéricos.\n",
    "</div>"
   ]
  },
  {
   "cell_type": "code",
   "execution_count": 306,
   "metadata": {
    "ExecuteTime": {
     "end_time": "2021-07-21T01:11:41.244424Z",
     "start_time": "2021-07-21T01:11:41.214469Z"
    }
   },
   "outputs": [],
   "source": [
    "# Importação da biblioteca para normalizar os dados (ficarão entre 0 e 1)\n",
    "from sklearn.preprocessing import MinMaxScaler\n",
    "\n",
    "# Criando um dataframe para os dados normalizados\n",
    "df_norm = df.copy()\n",
    "\n",
    "# Variável com as colunas que serão normalizadas\n",
    "col_names = ['house_val', 'car_prob']\n",
    "\n",
    "# Criando um dataframe separado apenas com as colunas que serão normalizadas\n",
    "features = df[col_names]\n",
    "\n",
    "# Usando a função de normalização\n",
    "scaler = MinMaxScaler().fit(features.values)\n",
    "features = scaler.transform(features.values)\n",
    "\n",
    "# Salvando no dataframe df_norm\n",
    "df_norm[col_names] = features"
   ]
  },
  {
   "cell_type": "code",
   "execution_count": 307,
   "metadata": {
    "ExecuteTime": {
     "end_time": "2021-07-21T01:11:41.275304Z",
     "start_time": "2021-07-21T01:11:41.245385Z"
    }
   },
   "outputs": [
    {
     "data": {
      "text/html": [
       "<div>\n",
       "<style scoped>\n",
       "    .dataframe tbody tr th:only-of-type {\n",
       "        vertical-align: middle;\n",
       "    }\n",
       "\n",
       "    .dataframe tbody tr th {\n",
       "        vertical-align: top;\n",
       "    }\n",
       "\n",
       "    .dataframe thead th {\n",
       "        text-align: right;\n",
       "    }\n",
       "</style>\n",
       "<table border=\"1\" class=\"dataframe\">\n",
       "  <thead>\n",
       "    <tr style=\"text-align: right;\">\n",
       "      <th></th>\n",
       "      <th>flag</th>\n",
       "      <th>gender</th>\n",
       "      <th>education</th>\n",
       "      <th>house_val</th>\n",
       "      <th>age</th>\n",
       "      <th>online</th>\n",
       "      <th>child</th>\n",
       "      <th>mortgage</th>\n",
       "      <th>house_owner</th>\n",
       "      <th>car_prob</th>\n",
       "      <th>...</th>\n",
       "      <th>occupation_Farm</th>\n",
       "      <th>occupation_Others</th>\n",
       "      <th>occupation_Professional</th>\n",
       "      <th>occupation_Retired</th>\n",
       "      <th>occupation_Sales/Service</th>\n",
       "      <th>region_Midwest</th>\n",
       "      <th>region_Northeast</th>\n",
       "      <th>region_Rest</th>\n",
       "      <th>region_South</th>\n",
       "      <th>region_West</th>\n",
       "    </tr>\n",
       "  </thead>\n",
       "  <tbody>\n",
       "    <tr>\n",
       "      <th>2</th>\n",
       "      <td>0</td>\n",
       "      <td>0</td>\n",
       "      <td>2</td>\n",
       "      <td>0.018819</td>\n",
       "      <td>0</td>\n",
       "      <td>1</td>\n",
       "      <td>1</td>\n",
       "      <td>0</td>\n",
       "      <td>1</td>\n",
       "      <td>0.000</td>\n",
       "      <td>...</td>\n",
       "      <td>0</td>\n",
       "      <td>0</td>\n",
       "      <td>1</td>\n",
       "      <td>0</td>\n",
       "      <td>0</td>\n",
       "      <td>1</td>\n",
       "      <td>0</td>\n",
       "      <td>0</td>\n",
       "      <td>0</td>\n",
       "      <td>0</td>\n",
       "    </tr>\n",
       "    <tr>\n",
       "      <th>5</th>\n",
       "      <td>1</td>\n",
       "      <td>1</td>\n",
       "      <td>3</td>\n",
       "      <td>0.042108</td>\n",
       "      <td>4</td>\n",
       "      <td>1</td>\n",
       "      <td>0</td>\n",
       "      <td>1</td>\n",
       "      <td>1</td>\n",
       "      <td>0.000</td>\n",
       "      <td>...</td>\n",
       "      <td>0</td>\n",
       "      <td>0</td>\n",
       "      <td>1</td>\n",
       "      <td>0</td>\n",
       "      <td>0</td>\n",
       "      <td>0</td>\n",
       "      <td>0</td>\n",
       "      <td>0</td>\n",
       "      <td>0</td>\n",
       "      <td>1</td>\n",
       "    </tr>\n",
       "    <tr>\n",
       "      <th>7</th>\n",
       "      <td>0</td>\n",
       "      <td>1</td>\n",
       "      <td>3</td>\n",
       "      <td>0.070593</td>\n",
       "      <td>3</td>\n",
       "      <td>1</td>\n",
       "      <td>1</td>\n",
       "      <td>0</td>\n",
       "      <td>1</td>\n",
       "      <td>0.125</td>\n",
       "      <td>...</td>\n",
       "      <td>0</td>\n",
       "      <td>0</td>\n",
       "      <td>1</td>\n",
       "      <td>0</td>\n",
       "      <td>0</td>\n",
       "      <td>0</td>\n",
       "      <td>0</td>\n",
       "      <td>0</td>\n",
       "      <td>1</td>\n",
       "      <td>0</td>\n",
       "    </tr>\n",
       "    <tr>\n",
       "      <th>8</th>\n",
       "      <td>0</td>\n",
       "      <td>1</td>\n",
       "      <td>1</td>\n",
       "      <td>0.035163</td>\n",
       "      <td>2</td>\n",
       "      <td>1</td>\n",
       "      <td>1</td>\n",
       "      <td>0</td>\n",
       "      <td>0</td>\n",
       "      <td>0.500</td>\n",
       "      <td>...</td>\n",
       "      <td>0</td>\n",
       "      <td>0</td>\n",
       "      <td>0</td>\n",
       "      <td>0</td>\n",
       "      <td>0</td>\n",
       "      <td>0</td>\n",
       "      <td>0</td>\n",
       "      <td>0</td>\n",
       "      <td>0</td>\n",
       "      <td>1</td>\n",
       "    </tr>\n",
       "    <tr>\n",
       "      <th>10</th>\n",
       "      <td>0</td>\n",
       "      <td>0</td>\n",
       "      <td>2</td>\n",
       "      <td>0.026797</td>\n",
       "      <td>5</td>\n",
       "      <td>1</td>\n",
       "      <td>1</td>\n",
       "      <td>1</td>\n",
       "      <td>1</td>\n",
       "      <td>0.250</td>\n",
       "      <td>...</td>\n",
       "      <td>0</td>\n",
       "      <td>0</td>\n",
       "      <td>0</td>\n",
       "      <td>0</td>\n",
       "      <td>1</td>\n",
       "      <td>1</td>\n",
       "      <td>0</td>\n",
       "      <td>0</td>\n",
       "      <td>0</td>\n",
       "      <td>0</td>\n",
       "    </tr>\n",
       "  </tbody>\n",
       "</table>\n",
       "<p>5 rows × 32 columns</p>\n",
       "</div>"
      ],
      "text/plain": [
       "    flag  gender  education  house_val  age  online  child  mortgage  \\\n",
       "2      0       0          2   0.018819    0       1      1         0   \n",
       "5      1       1          3   0.042108    4       1      0         1   \n",
       "7      0       1          3   0.070593    3       1      1         0   \n",
       "8      0       1          1   0.035163    2       1      1         0   \n",
       "10     0       0          2   0.026797    5       1      1         1   \n",
       "\n",
       "    house_owner  car_prob  ...  occupation_Farm  occupation_Others  \\\n",
       "2             1     0.000  ...                0                  0   \n",
       "5             1     0.000  ...                0                  0   \n",
       "7             1     0.125  ...                0                  0   \n",
       "8             0     0.500  ...                0                  0   \n",
       "10            1     0.250  ...                0                  0   \n",
       "\n",
       "    occupation_Professional  occupation_Retired  occupation_Sales/Service  \\\n",
       "2                         1                   0                         0   \n",
       "5                         1                   0                         0   \n",
       "7                         1                   0                         0   \n",
       "8                         0                   0                         0   \n",
       "10                        0                   0                         1   \n",
       "\n",
       "    region_Midwest  region_Northeast  region_Rest  region_South  region_West  \n",
       "2                1                 0            0             0            0  \n",
       "5                0                 0            0             0            1  \n",
       "7                0                 0            0             1            0  \n",
       "8                0                 0            0             0            1  \n",
       "10               1                 0            0             0            0  \n",
       "\n",
       "[5 rows x 32 columns]"
      ]
     },
     "execution_count": 307,
     "metadata": {},
     "output_type": "execute_result"
    }
   ],
   "source": [
    "# Visualizando os dados\n",
    "df_norm.head()"
   ]
  },
  {
   "cell_type": "markdown",
   "metadata": {},
   "source": [
    "# 4. Análise Exploratória dos Dados"
   ]
  },
  {
   "cell_type": "markdown",
   "metadata": {},
   "source": [
    "# 5. Treinamento do Modelo"
   ]
  },
  {
   "cell_type": "markdown",
   "metadata": {},
   "source": [
    "# 6. Avaliação do Modelo"
   ]
  },
  {
   "cell_type": "markdown",
   "metadata": {},
   "source": [
    "# 7. Exportação do Modelo"
   ]
  }
 ],
 "metadata": {
  "kernelspec": {
   "display_name": "Python 3",
   "language": "python",
   "name": "python3"
  },
  "language_info": {
   "codemirror_mode": {
    "name": "ipython",
    "version": 3
   },
   "file_extension": ".py",
   "mimetype": "text/x-python",
   "name": "python",
   "nbconvert_exporter": "python",
   "pygments_lexer": "ipython3",
   "version": "3.8.5"
  }
 },
 "nbformat": 4,
 "nbformat_minor": 4
}
