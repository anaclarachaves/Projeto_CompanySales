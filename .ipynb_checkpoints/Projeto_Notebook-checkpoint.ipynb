{
 "cells": [
  {
   "cell_type": "markdown",
   "metadata": {},
   "source": [
    "# Descrição do Dataset"
   ]
  },
  {
   "cell_type": "markdown",
   "metadata": {},
   "source": [
    "O dataset utilizado neste projeto foi encontrado no <a href=\"https://www.kaggle.com/mickey1968/individual-company-sales-data\">kaggle</a>. Trata-se de dados de vendas de uma única empresa, com 40.000 instâncias e 15 features. Cada instância corresponde a informações sobre um único cliente."
   ]
  },
  {
   "cell_type": "markdown",
   "metadata": {},
   "source": [
    "<div class=\"alert alert-info\">\n",
    "  <strong><h3>Informações sobre as variáveis:</h3></strong><br>\n",
    "    <li><strong>flag:</strong> (target) - o cliente comprou o produto em questão ou não? [variável binária]<br></li>\n",
    "        <li><strong>gender:</strong> gênero do cliente. [variável binária]<br></li>\n",
    "<li><strong>education:</strong> grau de escolaridade do cliente. [variável categórica]<br></li>\n",
    "<li><strong>house_val:</strong> valor da casa que o cliente mora. [variável numérica]<br></li>\n",
    "<li><strong>age:</strong> idade do cliente (faixa etária). [variável categórica]<br></li>\n",
    "<li><strong>online:</strong> o cliente já fez compras online ou não? [variável binária]<br></li>\n",
    "<li><strong>customer_psy:</strong> descreve a psicologia do consumidor com base na área de residência. [variável categórica]<br></li>\n",
    "<li><strong>marriage:</strong> estado civil do cliente. [variável categórica]<br></li>\n",
    "<li><strong>children:</strong> se o cliente tem filhos ou não. [variável binária]<br></li>\n",
    "<li><strong>occupation:</strong> profissão do cliente. [variável categórica]<br></li>\n",
    "<li><strong>mortgage:</strong> informações sobre empréstimos imobiliários do cliente. [variável categórica]<br></li>\n",
    "<li><strong>house_own:</strong> se o cliente tem casa própria ou não. [variável binária]<br></li>\n",
    "<li><strong>region:</strong> em que área o cliente está? [variável categórica]<br></li>\n",
    "<li><strong>car_prob:</strong> probabilidade do cliente comprar um novo carro. [variável numérica]<br></li>\n",
    "<li><strong>fam_income:</strong> renda familiar do cliente (sendo A a menor renda e L a maior). [variável categórica]</li>      \n",
    "</div>"
   ]
  },
  {
   "cell_type": "markdown",
   "metadata": {},
   "source": [
    "# Sumário"
   ]
  },
  {
   "cell_type": "markdown",
   "metadata": {},
   "source": [
    "[1. Importação das Bibliotecas e dos Dados](#1.-Importação-das-Bibliotecas-e-dos-Dados)<br>\n",
    "[2. Pré-Visualização dos Dados](#2.-Pré-Visualização-dos-Dados)<br>\n",
    "[3. Pré-Processamento dos Dados](#3.-Pré-Processamento-dos-Dados)<br>\n",
    "&nbsp;&nbsp;&nbsp;&nbsp;[3.1. Limpeza dos Dados](#3.1.-Limpeza-dos-Dados)<br>\n",
    "&nbsp;&nbsp;&nbsp;&nbsp;[3.2. Tratamento de Variáveis Categóricas](#3.2.-Tratamento-de-Variáveis-Categóricas)<br>\n",
    "&nbsp;&nbsp;&nbsp;&nbsp;&nbsp;&nbsp;&nbsp;&nbsp;&nbsp;&nbsp;&nbsp;&nbsp;[3.2.1. Variáveis Binárias](#3.2.1.-Variáveis-Binárias)<br>\n",
    "&nbsp;&nbsp;&nbsp;&nbsp;&nbsp;&nbsp;&nbsp;&nbsp;&nbsp;&nbsp;&nbsp;&nbsp;[3.2.2. Variáveis Categóricas](#3.2.2.-Variáveis-Categóricas)<br>\n",
    "&nbsp;&nbsp;&nbsp;&nbsp;[3.3. Formatação dos Dados](#3.2.-Formatação-dos-Dados)<br>\n",
    "&nbsp;&nbsp;&nbsp;&nbsp;[3.4. Feature Engineering](#3.3.-Feature-Engineering)<br>\n",
    "&nbsp;&nbsp;&nbsp;&nbsp;[3.5. Transformação dos Dados](#3.4.-Transformação-dos-Dados)<br>\n",
    "[4. Análise Exploratória dos Dados](#4.-Análise-Exploratória-dos-Dados)<br>\n",
    "[5. Treinamento do Modelo](#5.-Treinamento-do-Modelo)<br>\n",
    "[6. Avaliação do Modelo](#6.-Avaliação-do-Modelo)<br>\n",
    "[7. Exportação do Modelo](#7.-Exportação-do-Modelo)"
   ]
  },
  {
   "cell_type": "markdown",
   "metadata": {},
   "source": [
    "# 1. Importação das Bibliotecas e dos Dados"
   ]
  },
  {
   "cell_type": "code",
   "execution_count": 1,
   "metadata": {},
   "outputs": [],
   "source": [
    "# Importação das principais bibliotecas que serão utilizadas no projeto\n",
    "\n",
    "import pandas as pd\n",
    "import numpy as np\n",
    "import matplotlib.pyplot as plt\n",
    "import seaborn as sns"
   ]
  },
  {
   "cell_type": "markdown",
   "metadata": {},
   "source": [
    "<div class=\"alert alert-info\">\n",
    "  <strong><h3>Versões das Bibliotecas:</h3></strong><br>\n",
    "    <li><strong>Pandas:</strong> 1.1.3<br></li>\n",
    "    <li><strong>Numpy:</strong> 1.19.2<br></li>\n",
    "<li><strong>Matplotlib:</strong> 3.3.2<br></li>\n",
    "<li><strong>Seaborn:</strong> 0.11.0<br></li>      \n",
    "</div>"
   ]
  },
  {
   "cell_type": "code",
   "execution_count": 2,
   "metadata": {},
   "outputs": [],
   "source": [
    "# Importando os dados que serão utilizados\n",
    "\n",
    "df = pd.read_csv('sales_data.csv')"
   ]
  },
  {
   "cell_type": "markdown",
   "metadata": {},
   "source": [
    "# 2. Pré-Visualização dos Dados"
   ]
  },
  {
   "cell_type": "code",
   "execution_count": 3,
   "metadata": {},
   "outputs": [
    {
     "data": {
      "text/plain": [
       "(40000, 15)"
      ]
     },
     "execution_count": 3,
     "metadata": {},
     "output_type": "execute_result"
    }
   ],
   "source": [
    "# Visualizando o tamanho do dataset\n",
    "df.shape"
   ]
  },
  {
   "cell_type": "code",
   "execution_count": 4,
   "metadata": {},
   "outputs": [
    {
     "data": {
      "text/plain": [
       "Index(['flag', 'gender', 'education', 'house_val', 'age', 'online',\n",
       "       'customer_psy', 'marriage', 'child', 'occupation', 'mortgage',\n",
       "       'house_owner', 'region', 'car_prob', 'fam_income'],\n",
       "      dtype='object')"
      ]
     },
     "execution_count": 4,
     "metadata": {},
     "output_type": "execute_result"
    }
   ],
   "source": [
    "# Visualizando as colunas do dataset\n",
    "df.columns"
   ]
  },
  {
   "cell_type": "code",
   "execution_count": 5,
   "metadata": {},
   "outputs": [
    {
     "data": {
      "text/html": [
       "<div>\n",
       "<style scoped>\n",
       "    .dataframe tbody tr th:only-of-type {\n",
       "        vertical-align: middle;\n",
       "    }\n",
       "\n",
       "    .dataframe tbody tr th {\n",
       "        vertical-align: top;\n",
       "    }\n",
       "\n",
       "    .dataframe thead th {\n",
       "        text-align: right;\n",
       "    }\n",
       "</style>\n",
       "<table border=\"1\" class=\"dataframe\">\n",
       "  <thead>\n",
       "    <tr style=\"text-align: right;\">\n",
       "      <th></th>\n",
       "      <th>flag</th>\n",
       "      <th>gender</th>\n",
       "      <th>education</th>\n",
       "      <th>house_val</th>\n",
       "      <th>age</th>\n",
       "      <th>online</th>\n",
       "      <th>customer_psy</th>\n",
       "      <th>marriage</th>\n",
       "      <th>child</th>\n",
       "      <th>occupation</th>\n",
       "      <th>mortgage</th>\n",
       "      <th>house_owner</th>\n",
       "      <th>region</th>\n",
       "      <th>car_prob</th>\n",
       "      <th>fam_income</th>\n",
       "    </tr>\n",
       "  </thead>\n",
       "  <tbody>\n",
       "    <tr>\n",
       "      <th>0</th>\n",
       "      <td>Y</td>\n",
       "      <td>M</td>\n",
       "      <td>4. Grad</td>\n",
       "      <td>756460</td>\n",
       "      <td>1_Unk</td>\n",
       "      <td>N</td>\n",
       "      <td>B</td>\n",
       "      <td>NaN</td>\n",
       "      <td>U</td>\n",
       "      <td>Professional</td>\n",
       "      <td>1Low</td>\n",
       "      <td>NaN</td>\n",
       "      <td>Midwest</td>\n",
       "      <td>1</td>\n",
       "      <td>L</td>\n",
       "    </tr>\n",
       "    <tr>\n",
       "      <th>1</th>\n",
       "      <td>N</td>\n",
       "      <td>F</td>\n",
       "      <td>3. Bach</td>\n",
       "      <td>213171</td>\n",
       "      <td>7_&gt;65</td>\n",
       "      <td>N</td>\n",
       "      <td>E</td>\n",
       "      <td>NaN</td>\n",
       "      <td>U</td>\n",
       "      <td>Professional</td>\n",
       "      <td>1Low</td>\n",
       "      <td>Owner</td>\n",
       "      <td>Northeast</td>\n",
       "      <td>3</td>\n",
       "      <td>G</td>\n",
       "    </tr>\n",
       "    <tr>\n",
       "      <th>2</th>\n",
       "      <td>N</td>\n",
       "      <td>M</td>\n",
       "      <td>2. Some College</td>\n",
       "      <td>111147</td>\n",
       "      <td>2_&lt;=25</td>\n",
       "      <td>Y</td>\n",
       "      <td>C</td>\n",
       "      <td>NaN</td>\n",
       "      <td>Y</td>\n",
       "      <td>Professional</td>\n",
       "      <td>1Low</td>\n",
       "      <td>Owner</td>\n",
       "      <td>Midwest</td>\n",
       "      <td>1</td>\n",
       "      <td>J</td>\n",
       "    </tr>\n",
       "    <tr>\n",
       "      <th>3</th>\n",
       "      <td>Y</td>\n",
       "      <td>M</td>\n",
       "      <td>2. Some College</td>\n",
       "      <td>354151</td>\n",
       "      <td>2_&lt;=25</td>\n",
       "      <td>Y</td>\n",
       "      <td>B</td>\n",
       "      <td>Single</td>\n",
       "      <td>U</td>\n",
       "      <td>Sales/Service</td>\n",
       "      <td>1Low</td>\n",
       "      <td>NaN</td>\n",
       "      <td>West</td>\n",
       "      <td>2</td>\n",
       "      <td>L</td>\n",
       "    </tr>\n",
       "    <tr>\n",
       "      <th>4</th>\n",
       "      <td>Y</td>\n",
       "      <td>F</td>\n",
       "      <td>2. Some College</td>\n",
       "      <td>117087</td>\n",
       "      <td>1_Unk</td>\n",
       "      <td>Y</td>\n",
       "      <td>J</td>\n",
       "      <td>Married</td>\n",
       "      <td>Y</td>\n",
       "      <td>Sales/Service</td>\n",
       "      <td>1Low</td>\n",
       "      <td>NaN</td>\n",
       "      <td>South</td>\n",
       "      <td>7</td>\n",
       "      <td>H</td>\n",
       "    </tr>\n",
       "    <tr>\n",
       "      <th>5</th>\n",
       "      <td>Y</td>\n",
       "      <td>F</td>\n",
       "      <td>3. Bach</td>\n",
       "      <td>248694</td>\n",
       "      <td>6_&lt;=65</td>\n",
       "      <td>Y</td>\n",
       "      <td>B</td>\n",
       "      <td>Married</td>\n",
       "      <td>N</td>\n",
       "      <td>Professional</td>\n",
       "      <td>2Med</td>\n",
       "      <td>Owner</td>\n",
       "      <td>West</td>\n",
       "      <td>1</td>\n",
       "      <td>G</td>\n",
       "    </tr>\n",
       "    <tr>\n",
       "      <th>6</th>\n",
       "      <td>Y</td>\n",
       "      <td>M</td>\n",
       "      <td>3. Bach</td>\n",
       "      <td>2000000</td>\n",
       "      <td>1_Unk</td>\n",
       "      <td>Y</td>\n",
       "      <td>A</td>\n",
       "      <td>Married</td>\n",
       "      <td>U</td>\n",
       "      <td>Professional</td>\n",
       "      <td>1Low</td>\n",
       "      <td>NaN</td>\n",
       "      <td>Northeast</td>\n",
       "      <td>5</td>\n",
       "      <td>C</td>\n",
       "    </tr>\n",
       "    <tr>\n",
       "      <th>7</th>\n",
       "      <td>N</td>\n",
       "      <td>F</td>\n",
       "      <td>3. Bach</td>\n",
       "      <td>416925</td>\n",
       "      <td>5_&lt;=55</td>\n",
       "      <td>Y</td>\n",
       "      <td>C</td>\n",
       "      <td>Married</td>\n",
       "      <td>Y</td>\n",
       "      <td>Professional</td>\n",
       "      <td>1Low</td>\n",
       "      <td>Owner</td>\n",
       "      <td>South</td>\n",
       "      <td>2</td>\n",
       "      <td>I</td>\n",
       "    </tr>\n",
       "    <tr>\n",
       "      <th>8</th>\n",
       "      <td>N</td>\n",
       "      <td>F</td>\n",
       "      <td>1. HS</td>\n",
       "      <td>207676</td>\n",
       "      <td>4_&lt;=45</td>\n",
       "      <td>Y</td>\n",
       "      <td>G</td>\n",
       "      <td>NaN</td>\n",
       "      <td>Y</td>\n",
       "      <td>Blue Collar</td>\n",
       "      <td>1Low</td>\n",
       "      <td>Renter</td>\n",
       "      <td>West</td>\n",
       "      <td>5</td>\n",
       "      <td>D</td>\n",
       "    </tr>\n",
       "    <tr>\n",
       "      <th>9</th>\n",
       "      <td>Y</td>\n",
       "      <td>M</td>\n",
       "      <td>1. HS</td>\n",
       "      <td>241380</td>\n",
       "      <td>1_Unk</td>\n",
       "      <td>Y</td>\n",
       "      <td>C</td>\n",
       "      <td>Married</td>\n",
       "      <td>U</td>\n",
       "      <td>Sales/Service</td>\n",
       "      <td>1Low</td>\n",
       "      <td>NaN</td>\n",
       "      <td>Northeast</td>\n",
       "      <td>6</td>\n",
       "      <td>G</td>\n",
       "    </tr>\n",
       "  </tbody>\n",
       "</table>\n",
       "</div>"
      ],
      "text/plain": [
       "  flag gender        education  house_val     age online customer_psy  \\\n",
       "0    Y      M          4. Grad     756460   1_Unk      N            B   \n",
       "1    N      F          3. Bach     213171   7_>65      N            E   \n",
       "2    N      M  2. Some College     111147  2_<=25      Y            C   \n",
       "3    Y      M  2. Some College     354151  2_<=25      Y            B   \n",
       "4    Y      F  2. Some College     117087   1_Unk      Y            J   \n",
       "5    Y      F          3. Bach     248694  6_<=65      Y            B   \n",
       "6    Y      M          3. Bach    2000000   1_Unk      Y            A   \n",
       "7    N      F          3. Bach     416925  5_<=55      Y            C   \n",
       "8    N      F            1. HS     207676  4_<=45      Y            G   \n",
       "9    Y      M            1. HS     241380   1_Unk      Y            C   \n",
       "\n",
       "  marriage child     occupation mortgage house_owner     region  car_prob  \\\n",
       "0      NaN     U   Professional     1Low         NaN    Midwest         1   \n",
       "1      NaN     U   Professional     1Low       Owner  Northeast         3   \n",
       "2      NaN     Y   Professional     1Low       Owner    Midwest         1   \n",
       "3   Single     U  Sales/Service     1Low         NaN       West         2   \n",
       "4  Married     Y  Sales/Service     1Low         NaN      South         7   \n",
       "5  Married     N   Professional     2Med       Owner       West         1   \n",
       "6  Married     U   Professional     1Low         NaN  Northeast         5   \n",
       "7  Married     Y   Professional     1Low       Owner      South         2   \n",
       "8      NaN     Y    Blue Collar     1Low      Renter       West         5   \n",
       "9  Married     U  Sales/Service     1Low         NaN  Northeast         6   \n",
       "\n",
       "  fam_income  \n",
       "0          L  \n",
       "1          G  \n",
       "2          J  \n",
       "3          L  \n",
       "4          H  \n",
       "5          G  \n",
       "6          C  \n",
       "7          I  \n",
       "8          D  \n",
       "9          G  "
      ]
     },
     "execution_count": 5,
     "metadata": {},
     "output_type": "execute_result"
    }
   ],
   "source": [
    "# Visualizando as 10 primeiras linhas\n",
    "df.head(10)"
   ]
  },
  {
   "cell_type": "code",
   "execution_count": 10,
   "metadata": {
    "scrolled": true
   },
   "outputs": [
    {
     "data": {
      "text/html": [
       "<div>\n",
       "<style scoped>\n",
       "    .dataframe tbody tr th:only-of-type {\n",
       "        vertical-align: middle;\n",
       "    }\n",
       "\n",
       "    .dataframe tbody tr th {\n",
       "        vertical-align: top;\n",
       "    }\n",
       "\n",
       "    .dataframe thead th {\n",
       "        text-align: right;\n",
       "    }\n",
       "</style>\n",
       "<table border=\"1\" class=\"dataframe\">\n",
       "  <thead>\n",
       "    <tr style=\"text-align: right;\">\n",
       "      <th></th>\n",
       "      <th>flag</th>\n",
       "      <th>gender</th>\n",
       "      <th>education</th>\n",
       "      <th>house_val</th>\n",
       "      <th>age</th>\n",
       "      <th>online</th>\n",
       "      <th>customer_psy</th>\n",
       "      <th>marriage</th>\n",
       "      <th>child</th>\n",
       "      <th>occupation</th>\n",
       "      <th>mortgage</th>\n",
       "      <th>house_owner</th>\n",
       "      <th>region</th>\n",
       "      <th>car_prob</th>\n",
       "      <th>fam_income</th>\n",
       "    </tr>\n",
       "  </thead>\n",
       "  <tbody>\n",
       "    <tr>\n",
       "      <th>count</th>\n",
       "      <td>40000</td>\n",
       "      <td>40000</td>\n",
       "      <td>39259</td>\n",
       "      <td>4.000000e+04</td>\n",
       "      <td>40000</td>\n",
       "      <td>40000</td>\n",
       "      <td>40000</td>\n",
       "      <td>25973</td>\n",
       "      <td>40000</td>\n",
       "      <td>40000</td>\n",
       "      <td>40000</td>\n",
       "      <td>36623</td>\n",
       "      <td>40000</td>\n",
       "      <td>40000.000000</td>\n",
       "      <td>40000</td>\n",
       "    </tr>\n",
       "    <tr>\n",
       "      <th>unique</th>\n",
       "      <td>2</td>\n",
       "      <td>3</td>\n",
       "      <td>5</td>\n",
       "      <td>NaN</td>\n",
       "      <td>7</td>\n",
       "      <td>2</td>\n",
       "      <td>11</td>\n",
       "      <td>2</td>\n",
       "      <td>4</td>\n",
       "      <td>6</td>\n",
       "      <td>3</td>\n",
       "      <td>2</td>\n",
       "      <td>5</td>\n",
       "      <td>NaN</td>\n",
       "      <td>13</td>\n",
       "    </tr>\n",
       "    <tr>\n",
       "      <th>top</th>\n",
       "      <td>N</td>\n",
       "      <td>M</td>\n",
       "      <td>2. Some College</td>\n",
       "      <td>NaN</td>\n",
       "      <td>5_&lt;=55</td>\n",
       "      <td>Y</td>\n",
       "      <td>B</td>\n",
       "      <td>Married</td>\n",
       "      <td>Y</td>\n",
       "      <td>Professional</td>\n",
       "      <td>1Low</td>\n",
       "      <td>Owner</td>\n",
       "      <td>South</td>\n",
       "      <td>NaN</td>\n",
       "      <td>E</td>\n",
       "    </tr>\n",
       "    <tr>\n",
       "      <th>freq</th>\n",
       "      <td>20000</td>\n",
       "      <td>22019</td>\n",
       "      <td>11400</td>\n",
       "      <td>NaN</td>\n",
       "      <td>8103</td>\n",
       "      <td>27319</td>\n",
       "      <td>8197</td>\n",
       "      <td>20891</td>\n",
       "      <td>18012</td>\n",
       "      <td>14936</td>\n",
       "      <td>29848</td>\n",
       "      <td>29232</td>\n",
       "      <td>15676</td>\n",
       "      <td>NaN</td>\n",
       "      <td>8432</td>\n",
       "    </tr>\n",
       "    <tr>\n",
       "      <th>mean</th>\n",
       "      <td>NaN</td>\n",
       "      <td>NaN</td>\n",
       "      <td>NaN</td>\n",
       "      <td>3.072138e+05</td>\n",
       "      <td>NaN</td>\n",
       "      <td>NaN</td>\n",
       "      <td>NaN</td>\n",
       "      <td>NaN</td>\n",
       "      <td>NaN</td>\n",
       "      <td>NaN</td>\n",
       "      <td>NaN</td>\n",
       "      <td>NaN</td>\n",
       "      <td>NaN</td>\n",
       "      <td>3.491150</td>\n",
       "      <td>NaN</td>\n",
       "    </tr>\n",
       "    <tr>\n",
       "      <th>std</th>\n",
       "      <td>NaN</td>\n",
       "      <td>NaN</td>\n",
       "      <td>NaN</td>\n",
       "      <td>4.222146e+05</td>\n",
       "      <td>NaN</td>\n",
       "      <td>NaN</td>\n",
       "      <td>NaN</td>\n",
       "      <td>NaN</td>\n",
       "      <td>NaN</td>\n",
       "      <td>NaN</td>\n",
       "      <td>NaN</td>\n",
       "      <td>NaN</td>\n",
       "      <td>NaN</td>\n",
       "      <td>2.577719</td>\n",
       "      <td>NaN</td>\n",
       "    </tr>\n",
       "    <tr>\n",
       "      <th>min</th>\n",
       "      <td>NaN</td>\n",
       "      <td>NaN</td>\n",
       "      <td>NaN</td>\n",
       "      <td>0.000000e+00</td>\n",
       "      <td>NaN</td>\n",
       "      <td>NaN</td>\n",
       "      <td>NaN</td>\n",
       "      <td>NaN</td>\n",
       "      <td>NaN</td>\n",
       "      <td>NaN</td>\n",
       "      <td>NaN</td>\n",
       "      <td>NaN</td>\n",
       "      <td>NaN</td>\n",
       "      <td>0.000000</td>\n",
       "      <td>NaN</td>\n",
       "    </tr>\n",
       "    <tr>\n",
       "      <th>25%</th>\n",
       "      <td>NaN</td>\n",
       "      <td>NaN</td>\n",
       "      <td>NaN</td>\n",
       "      <td>8.065725e+04</td>\n",
       "      <td>NaN</td>\n",
       "      <td>NaN</td>\n",
       "      <td>NaN</td>\n",
       "      <td>NaN</td>\n",
       "      <td>NaN</td>\n",
       "      <td>NaN</td>\n",
       "      <td>NaN</td>\n",
       "      <td>NaN</td>\n",
       "      <td>NaN</td>\n",
       "      <td>1.000000</td>\n",
       "      <td>NaN</td>\n",
       "    </tr>\n",
       "    <tr>\n",
       "      <th>50%</th>\n",
       "      <td>NaN</td>\n",
       "      <td>NaN</td>\n",
       "      <td>NaN</td>\n",
       "      <td>2.148720e+05</td>\n",
       "      <td>NaN</td>\n",
       "      <td>NaN</td>\n",
       "      <td>NaN</td>\n",
       "      <td>NaN</td>\n",
       "      <td>NaN</td>\n",
       "      <td>NaN</td>\n",
       "      <td>NaN</td>\n",
       "      <td>NaN</td>\n",
       "      <td>NaN</td>\n",
       "      <td>3.000000</td>\n",
       "      <td>NaN</td>\n",
       "    </tr>\n",
       "    <tr>\n",
       "      <th>75%</th>\n",
       "      <td>NaN</td>\n",
       "      <td>NaN</td>\n",
       "      <td>NaN</td>\n",
       "      <td>3.937620e+05</td>\n",
       "      <td>NaN</td>\n",
       "      <td>NaN</td>\n",
       "      <td>NaN</td>\n",
       "      <td>NaN</td>\n",
       "      <td>NaN</td>\n",
       "      <td>NaN</td>\n",
       "      <td>NaN</td>\n",
       "      <td>NaN</td>\n",
       "      <td>NaN</td>\n",
       "      <td>5.000000</td>\n",
       "      <td>NaN</td>\n",
       "    </tr>\n",
       "    <tr>\n",
       "      <th>max</th>\n",
       "      <td>NaN</td>\n",
       "      <td>NaN</td>\n",
       "      <td>NaN</td>\n",
       "      <td>9.999999e+06</td>\n",
       "      <td>NaN</td>\n",
       "      <td>NaN</td>\n",
       "      <td>NaN</td>\n",
       "      <td>NaN</td>\n",
       "      <td>NaN</td>\n",
       "      <td>NaN</td>\n",
       "      <td>NaN</td>\n",
       "      <td>NaN</td>\n",
       "      <td>NaN</td>\n",
       "      <td>9.000000</td>\n",
       "      <td>NaN</td>\n",
       "    </tr>\n",
       "  </tbody>\n",
       "</table>\n",
       "</div>"
      ],
      "text/plain": [
       "         flag gender        education     house_val     age online  \\\n",
       "count   40000  40000            39259  4.000000e+04   40000  40000   \n",
       "unique      2      3                5           NaN       7      2   \n",
       "top         N      M  2. Some College           NaN  5_<=55      Y   \n",
       "freq    20000  22019            11400           NaN    8103  27319   \n",
       "mean      NaN    NaN              NaN  3.072138e+05     NaN    NaN   \n",
       "std       NaN    NaN              NaN  4.222146e+05     NaN    NaN   \n",
       "min       NaN    NaN              NaN  0.000000e+00     NaN    NaN   \n",
       "25%       NaN    NaN              NaN  8.065725e+04     NaN    NaN   \n",
       "50%       NaN    NaN              NaN  2.148720e+05     NaN    NaN   \n",
       "75%       NaN    NaN              NaN  3.937620e+05     NaN    NaN   \n",
       "max       NaN    NaN              NaN  9.999999e+06     NaN    NaN   \n",
       "\n",
       "       customer_psy marriage  child    occupation mortgage house_owner region  \\\n",
       "count         40000    25973  40000         40000    40000       36623  40000   \n",
       "unique           11        2      4             6        3           2      5   \n",
       "top               B  Married      Y  Professional     1Low       Owner  South   \n",
       "freq           8197    20891  18012         14936    29848       29232  15676   \n",
       "mean            NaN      NaN    NaN           NaN      NaN         NaN    NaN   \n",
       "std             NaN      NaN    NaN           NaN      NaN         NaN    NaN   \n",
       "min             NaN      NaN    NaN           NaN      NaN         NaN    NaN   \n",
       "25%             NaN      NaN    NaN           NaN      NaN         NaN    NaN   \n",
       "50%             NaN      NaN    NaN           NaN      NaN         NaN    NaN   \n",
       "75%             NaN      NaN    NaN           NaN      NaN         NaN    NaN   \n",
       "max             NaN      NaN    NaN           NaN      NaN         NaN    NaN   \n",
       "\n",
       "            car_prob fam_income  \n",
       "count   40000.000000      40000  \n",
       "unique           NaN         13  \n",
       "top              NaN          E  \n",
       "freq             NaN       8432  \n",
       "mean        3.491150        NaN  \n",
       "std         2.577719        NaN  \n",
       "min         0.000000        NaN  \n",
       "25%         1.000000        NaN  \n",
       "50%         3.000000        NaN  \n",
       "75%         5.000000        NaN  \n",
       "max         9.000000        NaN  "
      ]
     },
     "execution_count": 10,
     "metadata": {},
     "output_type": "execute_result"
    }
   ],
   "source": [
    "# Análise Estatística dos dados\n",
    "# Em ordem: quantidade de linhas, quantidade de valores únicos, moda, frequência da moda, média, desvio padrão,\n",
    " # valor mínimo, primeiro quartil, segundo quartil (mediana), terceiro quartil\n",
    "df.describe(include='all')"
   ]
  },
  {
   "cell_type": "markdown",
   "metadata": {},
   "source": [
    "<div class=\"alert alert-warning\">\n",
    "Antes de começar o pré-processamento dos dados, é importante entender melhor quais dados temos em mãos. Uma forma interessante de se fazer isso é sabendo quais e quantos são os valores únicos de cada uma das variáveis.\n",
    "</div>"
   ]
  },
  {
   "cell_type": "code",
   "execution_count": null,
   "metadata": {},
   "outputs": [],
   "source": [
    "# Função para mostrar os valores únicos das colunas escolhidas\n",
    "\n",
    "def valores_unicos(df):\n",
    "\n",
    "    for col in df:  # Loop entre as colunas do dataset\n",
    "        print(col)  # Printando o nome da coluna\n",
    "        # Printando a quantidade de valores únicos\n",
    "        print('A quantidade de valores únicos é: ', df[col].nunique())\n",
    "        # Mostrando quais são os valores únicos\n",
    "        print('Os valores únicos são: ', df[col].unique())\n",
    "        print('\\n')"
   ]
  },
  {
   "cell_type": "code",
   "execution_count": null,
   "metadata": {},
   "outputs": [],
   "source": [
    "# Visualizando os valores únicos do dataframe inteiro\n",
    "valores_unicos(df);"
   ]
  },
  {
   "cell_type": "markdown",
   "metadata": {},
   "source": [
    "# 3. Pré-Processamento dos Dados"
   ]
  },
  {
   "cell_type": "markdown",
   "metadata": {},
   "source": [
    "## 3.1. Limpeza dos Dados"
   ]
  },
  {
   "cell_type": "markdown",
   "metadata": {},
   "source": [
    "### 3.1.1. Variáveis Desconhecidas"
   ]
  },
  {
   "cell_type": "markdown",
   "metadata": {},
   "source": [
    "<div class=\"alert alert-danger\">\n",
    "Pelo código de valores únicos, é possível observar que algumas variáveis apresentam valores desconhecidos. Primeiro, é preciso verificar quantas vezes variáveis como 'U' e 'Unknown' aparecem em cada variável para depois fazer a tratativa.<br>\n",
    "Pelo código, as seguintes variáveis apresentaram valores classificados como desconhecidos: gender, age, child.\n",
    "</div>"
   ]
  },
  {
   "cell_type": "code",
   "execution_count": null,
   "metadata": {},
   "outputs": [],
   "source": [
    "# Criando uma variável com as colunas que possuem valores desconhecidos\n",
    "features_unk = df[['gender', 'age', 'child']]"
   ]
  },
  {
   "cell_type": "code",
   "execution_count": null,
   "metadata": {},
   "outputs": [],
   "source": [
    "# Visualizando a frequência das categorias que aparecem em cada coluna\n",
    "\n",
    "valores_unicos(features_unk);"
   ]
  },
  {
   "cell_type": "code",
   "execution_count": null,
   "metadata": {},
   "outputs": [],
   "source": [
    "print('As variáveis desconhecidas da coluna de gênero correspondem a {:.2%} do total de instâncias.'.format(\n",
    "    1151/df.shape[0]))"
   ]
  },
  {
   "cell_type": "code",
   "execution_count": null,
   "metadata": {},
   "outputs": [],
   "source": [
    "print('As variáveis desconhecidas da coluna de idade correspondem a {:.2%} do total de instâncias.'.format(\n",
    "    6709/df.shape[0]))"
   ]
  },
  {
   "cell_type": "code",
   "execution_count": null,
   "metadata": {},
   "outputs": [],
   "source": [
    "print('As variáveis desconhecidas da coluna de idade correspondem a {:.2%} do total de instâncias.'.format(\n",
    "    8528/df.shape[0]))"
   ]
  },
  {
   "cell_type": "markdown",
   "metadata": {},
   "source": [
    "<div class=\"alert alert-warning\">\n",
    "As variáveis desconhecidas podem ser transformadas em nulas (visto que não temos essa informação de qualquer forma). Posteriormente, os dados serão tratados.\n",
    "</div>"
   ]
  },
  {
   "cell_type": "code",
   "execution_count": null,
   "metadata": {},
   "outputs": [],
   "source": [
    "# Fazendo a substituição nas colunas\n",
    "\n",
    "# Gender\n",
    "df['gender'] = df.gender.replace('U', np.NaN)\n",
    "\n",
    "# Age\n",
    "df['age'] = df.age.replace('1_Unk', np.NaN)\n",
    "\n",
    "# Child - OBS: A coluna child tem também outra variável desconhecida, o 0\n",
    "df['child'] = df.child.replace('U', np.NaN)\n",
    "df['child'] = df.child.replace('0', np.NaN)"
   ]
  },
  {
   "cell_type": "markdown",
   "metadata": {},
   "source": [
    "### 3.1.2. Tratamento de Dados Nulos"
   ]
  },
  {
   "cell_type": "markdown",
   "metadata": {},
   "source": [
    "<div class=\"alert alert-danger\">\n",
    "Agora que as variáveis desconhecidas já foram substituídas por valores nulos, podemos ver a quantidade de valores nulos por cada coluna.\n",
    "</div>"
   ]
  },
  {
   "cell_type": "code",
   "execution_count": null,
   "metadata": {},
   "outputs": [],
   "source": [
    "# Visualizando quantos dados nulos aparecem em cada coluna (VALOR ABSOLUTO)\n",
    "df.isnull().sum()"
   ]
  },
  {
   "cell_type": "code",
   "execution_count": null,
   "metadata": {},
   "outputs": [],
   "source": [
    "# Visualizando quantos dados nulos aparecem em cada coluna (VALOR RELATIVO)\n",
    "df.isnull().sum() / df.shape[0] * 100"
   ]
  },
  {
   "cell_type": "markdown",
   "metadata": {},
   "source": [
    "<div class=\"alert alert-danger\">\n",
    "As variáveis 'flag', 'house_val', 'online', 'customer_psy', 'occupation', 'mortgage', 'region', 'car_prob' e 'fam_income' não apresentaram valores nulos. Todas as outras apresentaram, variando de 1,8% até 35,06%.<br>\n",
    "Vamos tratar caso a caso (da menor proporção até a maior proporção).\n",
    "</div>"
   ]
  },
  {
   "cell_type": "markdown",
   "metadata": {},
   "source": [
    "#### 3.1.2.1. Feature: 'education'"
   ]
  },
  {
   "cell_type": "markdown",
   "metadata": {},
   "source": [
    "INSERIR STACKED BAR PLOT AQUI"
   ]
  },
  {
   "cell_type": "code",
   "execution_count": null,
   "metadata": {},
   "outputs": [],
   "source": []
  },
  {
   "cell_type": "markdown",
   "metadata": {},
   "source": [
    "#### 3.1.2.2. Feature: 'gender'"
   ]
  },
  {
   "cell_type": "markdown",
   "metadata": {},
   "source": [
    "#### 3.1.2.3. Feature: 'house_owner'"
   ]
  },
  {
   "cell_type": "markdown",
   "metadata": {},
   "source": [
    "#### 3.1.2.4. Feature: 'age'"
   ]
  },
  {
   "cell_type": "markdown",
   "metadata": {},
   "source": [
    "#### 3.1.2.5. Feature: 'child'"
   ]
  },
  {
   "cell_type": "markdown",
   "metadata": {},
   "source": [
    "#### 3.1.2.5. Feature: 'marriage'"
   ]
  },
  {
   "cell_type": "markdown",
   "metadata": {},
   "source": [
    "## 3.2. Tratamento de Variáveis Categóricas"
   ]
  },
  {
   "cell_type": "markdown",
   "metadata": {},
   "source": [
    "### 3.2.1. Variáveis Binárias"
   ]
  },
  {
   "cell_type": "markdown",
   "metadata": {},
   "source": [
    "<div class=\"alert alert-danger\">\n",
    "A partir do código acima, é possível observar que as variáveis binárias estão com valores 'Y' e 'N'. Por isso, é preciso transformar 'Y' em 1 (sim) e 'N' em 0 (não), visto que o algoritmo precisa aprender a partir de números.<br>\n",
    "As seguintes colunas serão ajustadas: flag, online, child.\n",
    "</div>"
   ]
  },
  {
   "cell_type": "code",
   "execution_count": null,
   "metadata": {},
   "outputs": [],
   "source": [
    "# Criando variável com as features que serão transformadas\n",
    "features_YN = df[['flag', 'online', 'child']]\n",
    "\n",
    "# Loop entre as colunas da variável acima para fazer a substituição\n",
    "for col in features_YN:\n",
    "    df[col] = df[col].map({'Y': 1, 'N': 0})"
   ]
  },
  {
   "cell_type": "code",
   "execution_count": null,
   "metadata": {},
   "outputs": [],
   "source": [
    "# Printando o resultado \n",
    "\n",
    "for col in features_YN:\n",
    "    print(col)  # Printando o nome da coluna\n",
    "    # Printando a quantidade de valores únicos\n",
    "    print('A quantidade de valores únicos é: ', df[col].nunique())\n",
    "    # Mostrando quais são os valores únicos\n",
    "    print('Os valores únicos são: ', df[col].unique())\n",
    "    print('\\n')"
   ]
  },
  {
   "cell_type": "markdown",
   "metadata": {},
   "source": [
    "<div class=\"alert alert-danger\">\n",
    "Além das colunas binárias de Y/N, há também outras 3 colunas binárias: gender (F/M), marriage (solteiro/casado) e house_owner (casa própria ou alugada?). Essas colunas também precisam ser ajustadas. <br>\n",
    "<strong>OBS:</strong> Não necessariamente quer dizer que, na realidade, gêneros são binários. Mas, no caso do nosso problema, as únicas categorias que aparecem são F, M e U (unknown/desconhecido).\n",
    "</div>"
   ]
  },
  {
   "cell_type": "code",
   "execution_count": null,
   "metadata": {},
   "outputs": [],
   "source": [
    "# Fazendo a substituição na coluna 'gender'\n",
    "df['gender'] = df['gender'].map({'M': 0, 'F': 1})"
   ]
  },
  {
   "cell_type": "code",
   "execution_count": null,
   "metadata": {},
   "outputs": [],
   "source": [
    "# Fazendo a substituição na coluna 'marriage'\n",
    "df['marriage'] = df['marriage'].map({'Single': 0, 'Married': 1})"
   ]
  },
  {
   "cell_type": "code",
   "execution_count": null,
   "metadata": {},
   "outputs": [],
   "source": [
    "# Fazendo a substituição na coluna 'house_owner'\n",
    "df['house_owner'] = df['house_owner'].map({'Renter': 0, 'Owner': 1})"
   ]
  },
  {
   "cell_type": "code",
   "execution_count": null,
   "metadata": {
    "scrolled": true
   },
   "outputs": [],
   "source": [
    "# Criando variável das features binárias para visualizar como os dados estão após a tratativa\n",
    "features_binarias = df[['gender', 'marriage', 'house_owner']]\n",
    "\n",
    "# Printando o resultado \n",
    "for col in features_binarias:\n",
    "    print(col)  # Printando o nome da coluna\n",
    "    # Printando a quantidade de valores únicos\n",
    "    print('A quantidade de valores únicos é: ', df[col].nunique())\n",
    "    # Mostrando quais são os valores únicos\n",
    "    print('Os valores únicos são: ', df[col].unique())\n",
    "    print('\\n')"
   ]
  },
  {
   "cell_type": "markdown",
   "metadata": {},
   "source": [
    "### 3.2.2. Variáveis Categóricas"
   ]
  },
  {
   "cell_type": "markdown",
   "metadata": {},
   "source": [
    "<div class=\"alert alert-warning\">\n",
    "Entre as variáveis categóricas, existem tipos diferentes que exigem tratativas diferentes. Esses dois tipos aparecem nesse dataset:<br>\n",
    "    <li><strong>Variáveis Ordinais:</strong> Existe ordenação entre as categorias.</li>\n",
    "    <li><strong>Variáveis Nominais:</strong> Não existe ordenação entre as categorias.</li><br>\n",
    "    <strong>As ordinais são:</strong> education, age, mortgage e fam_income.<br>\n",
    "    <strong>As nonimais são:</strong> customer_psy, occupation e region.<br>\n",
    "</div>"
   ]
  },
  {
   "cell_type": "markdown",
   "metadata": {},
   "source": [
    "#### 3.2.2.1. Variáveis Categóricas Ordinais"
   ]
  },
  {
   "cell_type": "code",
   "execution_count": null,
   "metadata": {},
   "outputs": [],
   "source": [
    "from sklearn.preprocessing import OrdinalEncoder\n",
    "\n",
    "enc = OrdinalEncoder()\n",
    "enc.fit(df[['education', 'age', 'mortgage', 'fam_income']])"
   ]
  },
  {
   "cell_type": "markdown",
   "metadata": {},
   "source": [
    "#### 3.2.2.2. Variáveis Categóricas Nominais"
   ]
  },
  {
   "cell_type": "markdown",
   "metadata": {},
   "source": [
    "<div class=\"alert alert-warning\">\n",
    "Para as variáveis categóricas nominais, podemos utilizar o método de dummies. Cada uma das três variáveis será separada em múltiplas colunas, de acordo com a quantidade de categorias de cada.\n",
    "</div>"
   ]
  },
  {
   "cell_type": "code",
   "execution_count": null,
   "metadata": {},
   "outputs": [],
   "source": [
    "# Dummies das colunas nominais\n",
    "df = pd.get_dummies(df, columns = ['customer_psy', 'occupation', 'region'])"
   ]
  },
  {
   "cell_type": "code",
   "execution_count": null,
   "metadata": {
    "scrolled": true
   },
   "outputs": [],
   "source": [
    "# Visualizando as colunas atuais\n",
    "df.columns"
   ]
  },
  {
   "cell_type": "markdown",
   "metadata": {},
   "source": [
    "## 3.3. Formatação dos Dados"
   ]
  },
  {
   "cell_type": "markdown",
   "metadata": {},
   "source": [
    "## 3.4. Feature Engineering"
   ]
  },
  {
   "cell_type": "markdown",
   "metadata": {},
   "source": [
    "## 3.5. Transformação dos Dados"
   ]
  },
  {
   "cell_type": "markdown",
   "metadata": {},
   "source": [
    "# 4. Análise Exploratória dos Dados"
   ]
  },
  {
   "cell_type": "markdown",
   "metadata": {},
   "source": [
    "# 5. Treinamento do Modelo"
   ]
  },
  {
   "cell_type": "markdown",
   "metadata": {},
   "source": [
    "# 6. Avaliação do Modelo"
   ]
  },
  {
   "cell_type": "markdown",
   "metadata": {},
   "source": [
    "# 7. Exportação do Modelo"
   ]
  }
 ],
 "metadata": {
  "kernelspec": {
   "display_name": "Python 3",
   "language": "python",
   "name": "python3"
  },
  "language_info": {
   "codemirror_mode": {
    "name": "ipython",
    "version": 3
   },
   "file_extension": ".py",
   "mimetype": "text/x-python",
   "name": "python",
   "nbconvert_exporter": "python",
   "pygments_lexer": "ipython3",
   "version": "3.8.5"
  }
 },
 "nbformat": 4,
 "nbformat_minor": 4
}
